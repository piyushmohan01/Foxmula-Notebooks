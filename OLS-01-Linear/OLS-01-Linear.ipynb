{
 "cells": [
  {
   "cell_type": "code",
   "execution_count": 1,
   "metadata": {},
   "outputs": [
    {
     "data": {
      "text/plain": [
       "'C:\\\\Users\\\\pm_\\\\anaconda_files\\\\foxmula\\\\notebooks'"
      ]
     },
     "execution_count": 1,
     "metadata": {},
     "output_type": "execute_result"
    }
   ],
   "source": [
    "import os\n",
    "os.getcwd()"
   ]
  },
  {
   "cell_type": "code",
   "execution_count": 2,
   "metadata": {},
   "outputs": [],
   "source": [
    "import pandas as pd"
   ]
  },
  {
   "cell_type": "code",
   "execution_count": 3,
   "metadata": {},
   "outputs": [
    {
     "data": {
      "text/html": [
       "<div>\n",
       "<style scoped>\n",
       "    .dataframe tbody tr th:only-of-type {\n",
       "        vertical-align: middle;\n",
       "    }\n",
       "\n",
       "    .dataframe tbody tr th {\n",
       "        vertical-align: top;\n",
       "    }\n",
       "\n",
       "    .dataframe thead th {\n",
       "        text-align: right;\n",
       "    }\n",
       "</style>\n",
       "<table border=\"1\" class=\"dataframe\">\n",
       "  <thead>\n",
       "    <tr style=\"text-align: right;\">\n",
       "      <th></th>\n",
       "      <th>Date</th>\n",
       "      <th>StartTime</th>\n",
       "      <th>DayOfWeek</th>\n",
       "      <th>GoingTo</th>\n",
       "      <th>Distance</th>\n",
       "      <th>MaxSpeed</th>\n",
       "      <th>AvgSpeed</th>\n",
       "      <th>AvgMovingSpeed</th>\n",
       "      <th>FuelEconomy</th>\n",
       "      <th>TotalTime</th>\n",
       "      <th>MovingTime</th>\n",
       "      <th>Take407All</th>\n",
       "      <th>Comments</th>\n",
       "    </tr>\n",
       "  </thead>\n",
       "  <tbody>\n",
       "    <tr>\n",
       "      <th>0</th>\n",
       "      <td>1/6/2012</td>\n",
       "      <td>16:37</td>\n",
       "      <td>Friday</td>\n",
       "      <td>Home</td>\n",
       "      <td>51.29</td>\n",
       "      <td>127.4</td>\n",
       "      <td>78.3</td>\n",
       "      <td>84.8</td>\n",
       "      <td>NaN</td>\n",
       "      <td>39.3</td>\n",
       "      <td>36.3</td>\n",
       "      <td>No</td>\n",
       "      <td>NaN</td>\n",
       "    </tr>\n",
       "    <tr>\n",
       "      <th>1</th>\n",
       "      <td>1/6/2012</td>\n",
       "      <td>08:20</td>\n",
       "      <td>Friday</td>\n",
       "      <td>GSK</td>\n",
       "      <td>51.63</td>\n",
       "      <td>130.3</td>\n",
       "      <td>81.8</td>\n",
       "      <td>88.9</td>\n",
       "      <td>NaN</td>\n",
       "      <td>37.9</td>\n",
       "      <td>34.9</td>\n",
       "      <td>No</td>\n",
       "      <td>NaN</td>\n",
       "    </tr>\n",
       "    <tr>\n",
       "      <th>2</th>\n",
       "      <td>1/4/2012</td>\n",
       "      <td>16:17</td>\n",
       "      <td>Wednesday</td>\n",
       "      <td>Home</td>\n",
       "      <td>51.27</td>\n",
       "      <td>127.4</td>\n",
       "      <td>82.0</td>\n",
       "      <td>85.8</td>\n",
       "      <td>NaN</td>\n",
       "      <td>37.5</td>\n",
       "      <td>35.9</td>\n",
       "      <td>No</td>\n",
       "      <td>NaN</td>\n",
       "    </tr>\n",
       "    <tr>\n",
       "      <th>3</th>\n",
       "      <td>1/4/2012</td>\n",
       "      <td>07:53</td>\n",
       "      <td>Wednesday</td>\n",
       "      <td>GSK</td>\n",
       "      <td>49.17</td>\n",
       "      <td>132.3</td>\n",
       "      <td>74.2</td>\n",
       "      <td>82.9</td>\n",
       "      <td>NaN</td>\n",
       "      <td>39.8</td>\n",
       "      <td>35.6</td>\n",
       "      <td>No</td>\n",
       "      <td>NaN</td>\n",
       "    </tr>\n",
       "    <tr>\n",
       "      <th>4</th>\n",
       "      <td>1/3/2012</td>\n",
       "      <td>18:57</td>\n",
       "      <td>Tuesday</td>\n",
       "      <td>Home</td>\n",
       "      <td>51.15</td>\n",
       "      <td>136.2</td>\n",
       "      <td>83.4</td>\n",
       "      <td>88.1</td>\n",
       "      <td>NaN</td>\n",
       "      <td>36.8</td>\n",
       "      <td>34.8</td>\n",
       "      <td>No</td>\n",
       "      <td>NaN</td>\n",
       "    </tr>\n",
       "  </tbody>\n",
       "</table>\n",
       "</div>"
      ],
      "text/plain": [
       "       Date StartTime  DayOfWeek GoingTo  Distance  MaxSpeed  AvgSpeed  \\\n",
       "0  1/6/2012     16:37     Friday    Home     51.29     127.4      78.3   \n",
       "1  1/6/2012     08:20     Friday     GSK     51.63     130.3      81.8   \n",
       "2  1/4/2012     16:17  Wednesday    Home     51.27     127.4      82.0   \n",
       "3  1/4/2012     07:53  Wednesday     GSK     49.17     132.3      74.2   \n",
       "4  1/3/2012     18:57    Tuesday    Home     51.15     136.2      83.4   \n",
       "\n",
       "   AvgMovingSpeed FuelEconomy  TotalTime  MovingTime Take407All Comments  \n",
       "0            84.8         NaN       39.3        36.3         No      NaN  \n",
       "1            88.9         NaN       37.9        34.9         No      NaN  \n",
       "2            85.8         NaN       37.5        35.9         No      NaN  \n",
       "3            82.9         NaN       39.8        35.6         No      NaN  \n",
       "4            88.1         NaN       36.8        34.8         No      NaN  "
      ]
     },
     "execution_count": 3,
     "metadata": {},
     "output_type": "execute_result"
    }
   ],
   "source": [
    "df = pd.read_csv('OLS-01-Linear.csv', encoding = 'latin1')\n",
    "df.head()"
   ]
  },
  {
   "cell_type": "code",
   "execution_count": 4,
   "metadata": {},
   "outputs": [
    {
     "data": {
      "text/plain": [
       "(205, 13)"
      ]
     },
     "execution_count": 4,
     "metadata": {},
     "output_type": "execute_result"
    }
   ],
   "source": [
    "df.shape"
   ]
  },
  {
   "cell_type": "code",
   "execution_count": 5,
   "metadata": {},
   "outputs": [
    {
     "name": "stdout",
     "output_type": "stream",
     "text": [
      "<class 'pandas.core.frame.DataFrame'>\n",
      "RangeIndex: 205 entries, 0 to 204\n",
      "Data columns (total 13 columns):\n",
      " #   Column          Non-Null Count  Dtype  \n",
      "---  ------          --------------  -----  \n",
      " 0   Date            205 non-null    object \n",
      " 1   StartTime       205 non-null    object \n",
      " 2   DayOfWeek       205 non-null    object \n",
      " 3   GoingTo         205 non-null    object \n",
      " 4   Distance        205 non-null    float64\n",
      " 5   MaxSpeed        205 non-null    float64\n",
      " 6   AvgSpeed        205 non-null    float64\n",
      " 7   AvgMovingSpeed  205 non-null    float64\n",
      " 8   FuelEconomy     188 non-null    object \n",
      " 9   TotalTime       205 non-null    float64\n",
      " 10  MovingTime      205 non-null    float64\n",
      " 11  Take407All      205 non-null    object \n",
      " 12  Comments        24 non-null     object \n",
      "dtypes: float64(6), object(7)\n",
      "memory usage: 20.9+ KB\n"
     ]
    }
   ],
   "source": [
    "df.info()"
   ]
  },
  {
   "cell_type": "code",
   "execution_count": 6,
   "metadata": {},
   "outputs": [
    {
     "data": {
      "text/plain": [
       "Date                0\n",
       "StartTime           0\n",
       "DayOfWeek           0\n",
       "GoingTo             0\n",
       "Distance            0\n",
       "MaxSpeed            0\n",
       "AvgSpeed            0\n",
       "AvgMovingSpeed      0\n",
       "FuelEconomy        17\n",
       "TotalTime           0\n",
       "MovingTime          0\n",
       "Take407All          0\n",
       "Comments          181\n",
       "dtype: int64"
      ]
     },
     "execution_count": 6,
     "metadata": {},
     "output_type": "execute_result"
    }
   ],
   "source": [
    "df.isnull().sum()      # gives-the-count-of-null-values"
   ]
  },
  {
   "cell_type": "code",
   "execution_count": 7,
   "metadata": {},
   "outputs": [
    {
     "data": {
      "text/html": [
       "<div>\n",
       "<style scoped>\n",
       "    .dataframe tbody tr th:only-of-type {\n",
       "        vertical-align: middle;\n",
       "    }\n",
       "\n",
       "    .dataframe tbody tr th {\n",
       "        vertical-align: top;\n",
       "    }\n",
       "\n",
       "    .dataframe thead th {\n",
       "        text-align: right;\n",
       "    }\n",
       "</style>\n",
       "<table border=\"1\" class=\"dataframe\">\n",
       "  <thead>\n",
       "    <tr style=\"text-align: right;\">\n",
       "      <th></th>\n",
       "      <th>Date</th>\n",
       "      <th>StartTime</th>\n",
       "      <th>DayOfWeek</th>\n",
       "      <th>GoingTo</th>\n",
       "      <th>Distance</th>\n",
       "      <th>MaxSpeed</th>\n",
       "      <th>AvgSpeed</th>\n",
       "      <th>AvgMovingSpeed</th>\n",
       "      <th>FuelEconomy</th>\n",
       "      <th>TotalTime</th>\n",
       "      <th>MovingTime</th>\n",
       "      <th>Take407All</th>\n",
       "    </tr>\n",
       "  </thead>\n",
       "  <tbody>\n",
       "    <tr>\n",
       "      <th>0</th>\n",
       "      <td>1/6/2012</td>\n",
       "      <td>16:37</td>\n",
       "      <td>Friday</td>\n",
       "      <td>Home</td>\n",
       "      <td>51.29</td>\n",
       "      <td>127.4</td>\n",
       "      <td>78.3</td>\n",
       "      <td>84.8</td>\n",
       "      <td>NaN</td>\n",
       "      <td>39.3</td>\n",
       "      <td>36.3</td>\n",
       "      <td>No</td>\n",
       "    </tr>\n",
       "    <tr>\n",
       "      <th>1</th>\n",
       "      <td>1/6/2012</td>\n",
       "      <td>08:20</td>\n",
       "      <td>Friday</td>\n",
       "      <td>GSK</td>\n",
       "      <td>51.63</td>\n",
       "      <td>130.3</td>\n",
       "      <td>81.8</td>\n",
       "      <td>88.9</td>\n",
       "      <td>NaN</td>\n",
       "      <td>37.9</td>\n",
       "      <td>34.9</td>\n",
       "      <td>No</td>\n",
       "    </tr>\n",
       "    <tr>\n",
       "      <th>2</th>\n",
       "      <td>1/4/2012</td>\n",
       "      <td>16:17</td>\n",
       "      <td>Wednesday</td>\n",
       "      <td>Home</td>\n",
       "      <td>51.27</td>\n",
       "      <td>127.4</td>\n",
       "      <td>82.0</td>\n",
       "      <td>85.8</td>\n",
       "      <td>NaN</td>\n",
       "      <td>37.5</td>\n",
       "      <td>35.9</td>\n",
       "      <td>No</td>\n",
       "    </tr>\n",
       "    <tr>\n",
       "      <th>3</th>\n",
       "      <td>1/4/2012</td>\n",
       "      <td>07:53</td>\n",
       "      <td>Wednesday</td>\n",
       "      <td>GSK</td>\n",
       "      <td>49.17</td>\n",
       "      <td>132.3</td>\n",
       "      <td>74.2</td>\n",
       "      <td>82.9</td>\n",
       "      <td>NaN</td>\n",
       "      <td>39.8</td>\n",
       "      <td>35.6</td>\n",
       "      <td>No</td>\n",
       "    </tr>\n",
       "    <tr>\n",
       "      <th>4</th>\n",
       "      <td>1/3/2012</td>\n",
       "      <td>18:57</td>\n",
       "      <td>Tuesday</td>\n",
       "      <td>Home</td>\n",
       "      <td>51.15</td>\n",
       "      <td>136.2</td>\n",
       "      <td>83.4</td>\n",
       "      <td>88.1</td>\n",
       "      <td>NaN</td>\n",
       "      <td>36.8</td>\n",
       "      <td>34.8</td>\n",
       "      <td>No</td>\n",
       "    </tr>\n",
       "  </tbody>\n",
       "</table>\n",
       "</div>"
      ],
      "text/plain": [
       "       Date StartTime  DayOfWeek GoingTo  Distance  MaxSpeed  AvgSpeed  \\\n",
       "0  1/6/2012     16:37     Friday    Home     51.29     127.4      78.3   \n",
       "1  1/6/2012     08:20     Friday     GSK     51.63     130.3      81.8   \n",
       "2  1/4/2012     16:17  Wednesday    Home     51.27     127.4      82.0   \n",
       "3  1/4/2012     07:53  Wednesday     GSK     49.17     132.3      74.2   \n",
       "4  1/3/2012     18:57    Tuesday    Home     51.15     136.2      83.4   \n",
       "\n",
       "   AvgMovingSpeed FuelEconomy  TotalTime  MovingTime Take407All  \n",
       "0            84.8         NaN       39.3        36.3         No  \n",
       "1            88.9         NaN       37.9        34.9         No  \n",
       "2            85.8         NaN       37.5        35.9         No  \n",
       "3            82.9         NaN       39.8        35.6         No  \n",
       "4            88.1         NaN       36.8        34.8         No  "
      ]
     },
     "execution_count": 7,
     "metadata": {},
     "output_type": "execute_result"
    }
   ],
   "source": [
    "# dropping-comments-column\n",
    "# as-it-has-181-NaN-values-out-of-205\n",
    "\n",
    "data = df.drop(['Comments'], axis=1)\n",
    "\n",
    "data.head()"
   ]
  },
  {
   "cell_type": "code",
   "execution_count": 8,
   "metadata": {},
   "outputs": [
    {
     "data": {
      "text/html": [
       "<div>\n",
       "<style scoped>\n",
       "    .dataframe tbody tr th:only-of-type {\n",
       "        vertical-align: middle;\n",
       "    }\n",
       "\n",
       "    .dataframe tbody tr th {\n",
       "        vertical-align: top;\n",
       "    }\n",
       "\n",
       "    .dataframe thead th {\n",
       "        text-align: right;\n",
       "    }\n",
       "</style>\n",
       "<table border=\"1\" class=\"dataframe\">\n",
       "  <thead>\n",
       "    <tr style=\"text-align: right;\">\n",
       "      <th></th>\n",
       "      <th>Distance</th>\n",
       "      <th>MaxSpeed</th>\n",
       "      <th>AvgSpeed</th>\n",
       "      <th>AvgMovingSpeed</th>\n",
       "      <th>TotalTime</th>\n",
       "      <th>MovingTime</th>\n",
       "    </tr>\n",
       "  </thead>\n",
       "  <tbody>\n",
       "    <tr>\n",
       "      <th>count</th>\n",
       "      <td>205.000000</td>\n",
       "      <td>205.000000</td>\n",
       "      <td>205.000000</td>\n",
       "      <td>205.000000</td>\n",
       "      <td>205.000000</td>\n",
       "      <td>205.000000</td>\n",
       "    </tr>\n",
       "    <tr>\n",
       "      <th>mean</th>\n",
       "      <td>50.981512</td>\n",
       "      <td>127.591707</td>\n",
       "      <td>74.477561</td>\n",
       "      <td>81.975610</td>\n",
       "      <td>41.904390</td>\n",
       "      <td>37.871707</td>\n",
       "    </tr>\n",
       "    <tr>\n",
       "      <th>std</th>\n",
       "      <td>1.321205</td>\n",
       "      <td>4.128450</td>\n",
       "      <td>11.409816</td>\n",
       "      <td>10.111544</td>\n",
       "      <td>6.849476</td>\n",
       "      <td>4.835072</td>\n",
       "    </tr>\n",
       "    <tr>\n",
       "      <th>min</th>\n",
       "      <td>48.320000</td>\n",
       "      <td>112.200000</td>\n",
       "      <td>38.100000</td>\n",
       "      <td>50.300000</td>\n",
       "      <td>28.200000</td>\n",
       "      <td>27.100000</td>\n",
       "    </tr>\n",
       "    <tr>\n",
       "      <th>25%</th>\n",
       "      <td>50.650000</td>\n",
       "      <td>124.900000</td>\n",
       "      <td>68.900000</td>\n",
       "      <td>76.600000</td>\n",
       "      <td>38.400000</td>\n",
       "      <td>35.700000</td>\n",
       "    </tr>\n",
       "    <tr>\n",
       "      <th>50%</th>\n",
       "      <td>51.140000</td>\n",
       "      <td>127.400000</td>\n",
       "      <td>73.600000</td>\n",
       "      <td>81.400000</td>\n",
       "      <td>41.300000</td>\n",
       "      <td>37.600000</td>\n",
       "    </tr>\n",
       "    <tr>\n",
       "      <th>75%</th>\n",
       "      <td>51.630000</td>\n",
       "      <td>129.800000</td>\n",
       "      <td>79.900000</td>\n",
       "      <td>86.000000</td>\n",
       "      <td>44.400000</td>\n",
       "      <td>39.900000</td>\n",
       "    </tr>\n",
       "    <tr>\n",
       "      <th>max</th>\n",
       "      <td>60.320000</td>\n",
       "      <td>140.900000</td>\n",
       "      <td>107.700000</td>\n",
       "      <td>112.100000</td>\n",
       "      <td>82.300000</td>\n",
       "      <td>62.400000</td>\n",
       "    </tr>\n",
       "  </tbody>\n",
       "</table>\n",
       "</div>"
      ],
      "text/plain": [
       "         Distance    MaxSpeed    AvgSpeed  AvgMovingSpeed   TotalTime  \\\n",
       "count  205.000000  205.000000  205.000000      205.000000  205.000000   \n",
       "mean    50.981512  127.591707   74.477561       81.975610   41.904390   \n",
       "std      1.321205    4.128450   11.409816       10.111544    6.849476   \n",
       "min     48.320000  112.200000   38.100000       50.300000   28.200000   \n",
       "25%     50.650000  124.900000   68.900000       76.600000   38.400000   \n",
       "50%     51.140000  127.400000   73.600000       81.400000   41.300000   \n",
       "75%     51.630000  129.800000   79.900000       86.000000   44.400000   \n",
       "max     60.320000  140.900000  107.700000      112.100000   82.300000   \n",
       "\n",
       "       MovingTime  \n",
       "count  205.000000  \n",
       "mean    37.871707  \n",
       "std      4.835072  \n",
       "min     27.100000  \n",
       "25%     35.700000  \n",
       "50%     37.600000  \n",
       "75%     39.900000  \n",
       "max     62.400000  "
      ]
     },
     "execution_count": 8,
     "metadata": {},
     "output_type": "execute_result"
    }
   ],
   "source": [
    "data.describe()"
   ]
  },
  {
   "cell_type": "code",
   "execution_count": 9,
   "metadata": {},
   "outputs": [
    {
     "data": {
      "text/plain": [
       "Date               0\n",
       "StartTime          0\n",
       "DayOfWeek          0\n",
       "GoingTo            0\n",
       "Distance           0\n",
       "MaxSpeed           0\n",
       "AvgSpeed           0\n",
       "AvgMovingSpeed     0\n",
       "FuelEconomy       17\n",
       "TotalTime          0\n",
       "MovingTime         0\n",
       "Take407All         0\n",
       "dtype: int64"
      ]
     },
     "execution_count": 9,
     "metadata": {},
     "output_type": "execute_result"
    }
   ],
   "source": [
    "data.isnull().sum()"
   ]
  },
  {
   "cell_type": "code",
   "execution_count": 10,
   "metadata": {},
   "outputs": [
    {
     "name": "stdout",
     "output_type": "stream",
     "text": [
      "<class 'pandas.core.frame.DataFrame'>\n",
      "RangeIndex: 205 entries, 0 to 204\n",
      "Data columns (total 12 columns):\n",
      " #   Column          Non-Null Count  Dtype  \n",
      "---  ------          --------------  -----  \n",
      " 0   Date            205 non-null    object \n",
      " 1   StartTime       205 non-null    object \n",
      " 2   DayOfWeek       205 non-null    object \n",
      " 3   GoingTo         205 non-null    object \n",
      " 4   Distance        205 non-null    float64\n",
      " 5   MaxSpeed        205 non-null    float64\n",
      " 6   AvgSpeed        205 non-null    float64\n",
      " 7   AvgMovingSpeed  205 non-null    float64\n",
      " 8   FuelEconomy     188 non-null    object \n",
      " 9   TotalTime       205 non-null    float64\n",
      " 10  MovingTime      205 non-null    float64\n",
      " 11  Take407All      205 non-null    object \n",
      "dtypes: float64(6), object(6)\n",
      "memory usage: 19.3+ KB\n"
     ]
    }
   ],
   "source": [
    "data.info()"
   ]
  },
  {
   "cell_type": "code",
   "execution_count": 11,
   "metadata": {},
   "outputs": [
    {
     "data": {
      "text/plain": [
       "0     8.5\n",
       "1    8.54\n",
       "dtype: object"
      ]
     },
     "execution_count": 11,
     "metadata": {},
     "output_type": "execute_result"
    }
   ],
   "source": [
    "data['FuelEconomy'].mode()"
   ]
  },
  {
   "cell_type": "code",
   "execution_count": 12,
   "metadata": {},
   "outputs": [
    {
     "data": {
      "text/plain": [
       "8.5      20\n",
       "8.54     20\n",
       "8.75     11\n",
       "7.97     10\n",
       "8.45     10\n",
       "8.33     10\n",
       "8.37     10\n",
       "8.32      8\n",
       "8.48      8\n",
       "9.35      8\n",
       "9.53      8\n",
       "8.89      8\n",
       "9.08      8\n",
       "9.76      7\n",
       "8.31      6\n",
       "7.89      6\n",
       "9.3       6\n",
       "8.97      6\n",
       "10.05     4\n",
       "8.93      4\n",
       "8.28      3\n",
       "9.16      3\n",
       "-         2\n",
       "7.81      2\n",
       "Name: FuelEconomy, dtype: int64"
      ]
     },
     "execution_count": 12,
     "metadata": {},
     "output_type": "execute_result"
    }
   ],
   "source": [
    "data['FuelEconomy'].value_counts()"
   ]
  },
  {
   "cell_type": "code",
   "execution_count": 13,
   "metadata": {},
   "outputs": [
    {
     "data": {
      "text/html": [
       "<div>\n",
       "<style scoped>\n",
       "    .dataframe tbody tr th:only-of-type {\n",
       "        vertical-align: middle;\n",
       "    }\n",
       "\n",
       "    .dataframe tbody tr th {\n",
       "        vertical-align: top;\n",
       "    }\n",
       "\n",
       "    .dataframe thead th {\n",
       "        text-align: right;\n",
       "    }\n",
       "</style>\n",
       "<table border=\"1\" class=\"dataframe\">\n",
       "  <thead>\n",
       "    <tr style=\"text-align: right;\">\n",
       "      <th></th>\n",
       "      <th>Date</th>\n",
       "      <th>StartTime</th>\n",
       "      <th>DayOfWeek</th>\n",
       "      <th>GoingTo</th>\n",
       "      <th>Distance</th>\n",
       "      <th>MaxSpeed</th>\n",
       "      <th>AvgSpeed</th>\n",
       "      <th>AvgMovingSpeed</th>\n",
       "      <th>FuelEconomy</th>\n",
       "      <th>TotalTime</th>\n",
       "      <th>MovingTime</th>\n",
       "      <th>Take407All</th>\n",
       "    </tr>\n",
       "  </thead>\n",
       "  <tbody>\n",
       "    <tr>\n",
       "      <th>0</th>\n",
       "      <td>1/6/2012</td>\n",
       "      <td>16:37</td>\n",
       "      <td>Friday</td>\n",
       "      <td>Home</td>\n",
       "      <td>51.29</td>\n",
       "      <td>127.4</td>\n",
       "      <td>78.3</td>\n",
       "      <td>84.8</td>\n",
       "      <td>NaN</td>\n",
       "      <td>39.3</td>\n",
       "      <td>36.3</td>\n",
       "      <td>No</td>\n",
       "    </tr>\n",
       "    <tr>\n",
       "      <th>1</th>\n",
       "      <td>1/6/2012</td>\n",
       "      <td>08:20</td>\n",
       "      <td>Friday</td>\n",
       "      <td>GSK</td>\n",
       "      <td>51.63</td>\n",
       "      <td>130.3</td>\n",
       "      <td>81.8</td>\n",
       "      <td>88.9</td>\n",
       "      <td>NaN</td>\n",
       "      <td>37.9</td>\n",
       "      <td>34.9</td>\n",
       "      <td>No</td>\n",
       "    </tr>\n",
       "    <tr>\n",
       "      <th>2</th>\n",
       "      <td>1/4/2012</td>\n",
       "      <td>16:17</td>\n",
       "      <td>Wednesday</td>\n",
       "      <td>Home</td>\n",
       "      <td>51.27</td>\n",
       "      <td>127.4</td>\n",
       "      <td>82.0</td>\n",
       "      <td>85.8</td>\n",
       "      <td>NaN</td>\n",
       "      <td>37.5</td>\n",
       "      <td>35.9</td>\n",
       "      <td>No</td>\n",
       "    </tr>\n",
       "    <tr>\n",
       "      <th>3</th>\n",
       "      <td>1/4/2012</td>\n",
       "      <td>07:53</td>\n",
       "      <td>Wednesday</td>\n",
       "      <td>GSK</td>\n",
       "      <td>49.17</td>\n",
       "      <td>132.3</td>\n",
       "      <td>74.2</td>\n",
       "      <td>82.9</td>\n",
       "      <td>NaN</td>\n",
       "      <td>39.8</td>\n",
       "      <td>35.6</td>\n",
       "      <td>No</td>\n",
       "    </tr>\n",
       "    <tr>\n",
       "      <th>4</th>\n",
       "      <td>1/3/2012</td>\n",
       "      <td>18:57</td>\n",
       "      <td>Tuesday</td>\n",
       "      <td>Home</td>\n",
       "      <td>51.15</td>\n",
       "      <td>136.2</td>\n",
       "      <td>83.4</td>\n",
       "      <td>88.1</td>\n",
       "      <td>NaN</td>\n",
       "      <td>36.8</td>\n",
       "      <td>34.8</td>\n",
       "      <td>No</td>\n",
       "    </tr>\n",
       "  </tbody>\n",
       "</table>\n",
       "</div>"
      ],
      "text/plain": [
       "       Date StartTime  DayOfWeek GoingTo  Distance  MaxSpeed  AvgSpeed  \\\n",
       "0  1/6/2012     16:37     Friday    Home     51.29     127.4      78.3   \n",
       "1  1/6/2012     08:20     Friday     GSK     51.63     130.3      81.8   \n",
       "2  1/4/2012     16:17  Wednesday    Home     51.27     127.4      82.0   \n",
       "3  1/4/2012     07:53  Wednesday     GSK     49.17     132.3      74.2   \n",
       "4  1/3/2012     18:57    Tuesday    Home     51.15     136.2      83.4   \n",
       "\n",
       "   AvgMovingSpeed FuelEconomy  TotalTime  MovingTime Take407All  \n",
       "0            84.8         NaN       39.3        36.3         No  \n",
       "1            88.9         NaN       37.9        34.9         No  \n",
       "2            85.8         NaN       37.5        35.9         No  \n",
       "3            82.9         NaN       39.8        35.6         No  \n",
       "4            88.1         NaN       36.8        34.8         No  "
      ]
     },
     "execution_count": 13,
     "metadata": {},
     "output_type": "execute_result"
    }
   ],
   "source": [
    "data.head()"
   ]
  },
  {
   "cell_type": "code",
   "execution_count": 14,
   "metadata": {},
   "outputs": [
    {
     "name": "stdout",
     "output_type": "stream",
     "text": [
      "<class 'pandas.core.frame.DataFrame'>\n",
      "RangeIndex: 205 entries, 0 to 204\n",
      "Data columns (total 12 columns):\n",
      " #   Column          Non-Null Count  Dtype  \n",
      "---  ------          --------------  -----  \n",
      " 0   Date            205 non-null    object \n",
      " 1   StartTime       205 non-null    object \n",
      " 2   DayOfWeek       205 non-null    object \n",
      " 3   GoingTo         205 non-null    object \n",
      " 4   Distance        205 non-null    float64\n",
      " 5   MaxSpeed        205 non-null    float64\n",
      " 6   AvgSpeed        205 non-null    float64\n",
      " 7   AvgMovingSpeed  205 non-null    float64\n",
      " 8   FuelEconomy     188 non-null    object \n",
      " 9   TotalTime       205 non-null    float64\n",
      " 10  MovingTime      205 non-null    float64\n",
      " 11  Take407All      205 non-null    object \n",
      "dtypes: float64(6), object(6)\n",
      "memory usage: 19.3+ KB\n"
     ]
    }
   ],
   "source": [
    "data.info()"
   ]
  },
  {
   "cell_type": "code",
   "execution_count": 15,
   "metadata": {},
   "outputs": [
    {
     "data": {
      "text/plain": [
       "Date               0\n",
       "StartTime          0\n",
       "DayOfWeek          0\n",
       "GoingTo            0\n",
       "Distance           0\n",
       "MaxSpeed           0\n",
       "AvgSpeed           0\n",
       "AvgMovingSpeed     0\n",
       "FuelEconomy       17\n",
       "TotalTime          0\n",
       "MovingTime         0\n",
       "Take407All         0\n",
       "dtype: int64"
      ]
     },
     "execution_count": 15,
     "metadata": {},
     "output_type": "execute_result"
    }
   ],
   "source": [
    "data.isnull().sum()"
   ]
  },
  {
   "cell_type": "code",
   "execution_count": 16,
   "metadata": {},
   "outputs": [
    {
     "data": {
      "text/plain": [
       "Date              0\n",
       "StartTime         0\n",
       "DayOfWeek         0\n",
       "GoingTo           0\n",
       "Distance          0\n",
       "MaxSpeed          0\n",
       "AvgSpeed          0\n",
       "AvgMovingSpeed    0\n",
       "FuelEconomy       0\n",
       "TotalTime         0\n",
       "MovingTime        0\n",
       "Take407All        0\n",
       "dtype: int64"
      ]
     },
     "execution_count": 16,
     "metadata": {},
     "output_type": "execute_result"
    }
   ],
   "source": [
    "# data['FuelEconomy'] = data['FuelEconomy'].fillna('8.5')\n",
    "# data.isnull().sum()\n",
    "\n",
    "data['FuelEconomy'] = data['FuelEconomy'].fillna('NA')\n",
    "data.isnull().sum()"
   ]
  },
  {
   "cell_type": "code",
   "execution_count": 17,
   "metadata": {},
   "outputs": [
    {
     "data": {
      "text/html": [
       "<div>\n",
       "<style scoped>\n",
       "    .dataframe tbody tr th:only-of-type {\n",
       "        vertical-align: middle;\n",
       "    }\n",
       "\n",
       "    .dataframe tbody tr th {\n",
       "        vertical-align: top;\n",
       "    }\n",
       "\n",
       "    .dataframe thead th {\n",
       "        text-align: right;\n",
       "    }\n",
       "</style>\n",
       "<table border=\"1\" class=\"dataframe\">\n",
       "  <thead>\n",
       "    <tr style=\"text-align: right;\">\n",
       "      <th></th>\n",
       "      <th>Date</th>\n",
       "      <th>StartTime</th>\n",
       "      <th>DayOfWeek</th>\n",
       "      <th>GoingTo</th>\n",
       "      <th>Distance</th>\n",
       "      <th>MaxSpeed</th>\n",
       "      <th>AvgSpeed</th>\n",
       "      <th>AvgMovingSpeed</th>\n",
       "      <th>FuelEconomy</th>\n",
       "      <th>TotalTime</th>\n",
       "      <th>MovingTime</th>\n",
       "      <th>Take407All</th>\n",
       "    </tr>\n",
       "  </thead>\n",
       "  <tbody>\n",
       "    <tr>\n",
       "      <th>0</th>\n",
       "      <td>1/6/2012</td>\n",
       "      <td>16:37</td>\n",
       "      <td>Friday</td>\n",
       "      <td>Home</td>\n",
       "      <td>51.29</td>\n",
       "      <td>127.4</td>\n",
       "      <td>78.3</td>\n",
       "      <td>84.8</td>\n",
       "      <td>NA</td>\n",
       "      <td>39.3</td>\n",
       "      <td>36.3</td>\n",
       "      <td>No</td>\n",
       "    </tr>\n",
       "    <tr>\n",
       "      <th>1</th>\n",
       "      <td>1/6/2012</td>\n",
       "      <td>08:20</td>\n",
       "      <td>Friday</td>\n",
       "      <td>GSK</td>\n",
       "      <td>51.63</td>\n",
       "      <td>130.3</td>\n",
       "      <td>81.8</td>\n",
       "      <td>88.9</td>\n",
       "      <td>NA</td>\n",
       "      <td>37.9</td>\n",
       "      <td>34.9</td>\n",
       "      <td>No</td>\n",
       "    </tr>\n",
       "    <tr>\n",
       "      <th>2</th>\n",
       "      <td>1/4/2012</td>\n",
       "      <td>16:17</td>\n",
       "      <td>Wednesday</td>\n",
       "      <td>Home</td>\n",
       "      <td>51.27</td>\n",
       "      <td>127.4</td>\n",
       "      <td>82.0</td>\n",
       "      <td>85.8</td>\n",
       "      <td>NA</td>\n",
       "      <td>37.5</td>\n",
       "      <td>35.9</td>\n",
       "      <td>No</td>\n",
       "    </tr>\n",
       "    <tr>\n",
       "      <th>3</th>\n",
       "      <td>1/4/2012</td>\n",
       "      <td>07:53</td>\n",
       "      <td>Wednesday</td>\n",
       "      <td>GSK</td>\n",
       "      <td>49.17</td>\n",
       "      <td>132.3</td>\n",
       "      <td>74.2</td>\n",
       "      <td>82.9</td>\n",
       "      <td>NA</td>\n",
       "      <td>39.8</td>\n",
       "      <td>35.6</td>\n",
       "      <td>No</td>\n",
       "    </tr>\n",
       "    <tr>\n",
       "      <th>4</th>\n",
       "      <td>1/3/2012</td>\n",
       "      <td>18:57</td>\n",
       "      <td>Tuesday</td>\n",
       "      <td>Home</td>\n",
       "      <td>51.15</td>\n",
       "      <td>136.2</td>\n",
       "      <td>83.4</td>\n",
       "      <td>88.1</td>\n",
       "      <td>NA</td>\n",
       "      <td>36.8</td>\n",
       "      <td>34.8</td>\n",
       "      <td>No</td>\n",
       "    </tr>\n",
       "  </tbody>\n",
       "</table>\n",
       "</div>"
      ],
      "text/plain": [
       "       Date StartTime  DayOfWeek GoingTo  Distance  MaxSpeed  AvgSpeed  \\\n",
       "0  1/6/2012     16:37     Friday    Home     51.29     127.4      78.3   \n",
       "1  1/6/2012     08:20     Friday     GSK     51.63     130.3      81.8   \n",
       "2  1/4/2012     16:17  Wednesday    Home     51.27     127.4      82.0   \n",
       "3  1/4/2012     07:53  Wednesday     GSK     49.17     132.3      74.2   \n",
       "4  1/3/2012     18:57    Tuesday    Home     51.15     136.2      83.4   \n",
       "\n",
       "   AvgMovingSpeed FuelEconomy  TotalTime  MovingTime Take407All  \n",
       "0            84.8          NA       39.3        36.3         No  \n",
       "1            88.9          NA       37.9        34.9         No  \n",
       "2            85.8          NA       37.5        35.9         No  \n",
       "3            82.9          NA       39.8        35.6         No  \n",
       "4            88.1          NA       36.8        34.8         No  "
      ]
     },
     "execution_count": 17,
     "metadata": {},
     "output_type": "execute_result"
    }
   ],
   "source": [
    "data.head()"
   ]
  },
  {
   "cell_type": "code",
   "execution_count": 18,
   "metadata": {},
   "outputs": [
    {
     "data": {
      "text/plain": [
       "8.54     20\n",
       "8.5      20\n",
       "NA       17\n",
       "8.75     11\n",
       "7.97     10\n",
       "8.45     10\n",
       "8.33     10\n",
       "8.37     10\n",
       "9.35      8\n",
       "8.32      8\n",
       "8.48      8\n",
       "9.53      8\n",
       "8.89      8\n",
       "9.08      8\n",
       "9.76      7\n",
       "8.31      6\n",
       "7.89      6\n",
       "9.3       6\n",
       "8.97      6\n",
       "10.05     4\n",
       "8.93      4\n",
       "8.28      3\n",
       "9.16      3\n",
       "-         2\n",
       "7.81      2\n",
       "Name: FuelEconomy, dtype: int64"
      ]
     },
     "execution_count": 18,
     "metadata": {},
     "output_type": "execute_result"
    }
   ],
   "source": [
    "data['FuelEconomy'].value_counts()"
   ]
  },
  {
   "cell_type": "code",
   "execution_count": 19,
   "metadata": {},
   "outputs": [
    {
     "data": {
      "text/plain": [
       "Date              0\n",
       "StartTime         0\n",
       "DayOfWeek         0\n",
       "GoingTo           0\n",
       "Distance          0\n",
       "MaxSpeed          0\n",
       "AvgSpeed          0\n",
       "AvgMovingSpeed    0\n",
       "FuelEconomy       0\n",
       "TotalTime         0\n",
       "MovingTime        0\n",
       "Take407All        0\n",
       "dtype: int64"
      ]
     },
     "execution_count": 19,
     "metadata": {},
     "output_type": "execute_result"
    }
   ],
   "source": [
    "data.isnull().sum()"
   ]
  },
  {
   "cell_type": "code",
   "execution_count": 20,
   "metadata": {},
   "outputs": [
    {
     "data": {
      "text/html": [
       "<div>\n",
       "<style scoped>\n",
       "    .dataframe tbody tr th:only-of-type {\n",
       "        vertical-align: middle;\n",
       "    }\n",
       "\n",
       "    .dataframe tbody tr th {\n",
       "        vertical-align: top;\n",
       "    }\n",
       "\n",
       "    .dataframe thead th {\n",
       "        text-align: right;\n",
       "    }\n",
       "</style>\n",
       "<table border=\"1\" class=\"dataframe\">\n",
       "  <thead>\n",
       "    <tr style=\"text-align: right;\">\n",
       "      <th></th>\n",
       "      <th>Distance</th>\n",
       "      <th>MaxSpeed</th>\n",
       "      <th>AvgSpeed</th>\n",
       "      <th>AvgMovingSpeed</th>\n",
       "      <th>TotalTime</th>\n",
       "      <th>MovingTime</th>\n",
       "    </tr>\n",
       "  </thead>\n",
       "  <tbody>\n",
       "    <tr>\n",
       "      <th>count</th>\n",
       "      <td>205.000000</td>\n",
       "      <td>205.000000</td>\n",
       "      <td>205.000000</td>\n",
       "      <td>205.000000</td>\n",
       "      <td>205.000000</td>\n",
       "      <td>205.000000</td>\n",
       "    </tr>\n",
       "    <tr>\n",
       "      <th>mean</th>\n",
       "      <td>50.981512</td>\n",
       "      <td>127.591707</td>\n",
       "      <td>74.477561</td>\n",
       "      <td>81.975610</td>\n",
       "      <td>41.904390</td>\n",
       "      <td>37.871707</td>\n",
       "    </tr>\n",
       "    <tr>\n",
       "      <th>std</th>\n",
       "      <td>1.321205</td>\n",
       "      <td>4.128450</td>\n",
       "      <td>11.409816</td>\n",
       "      <td>10.111544</td>\n",
       "      <td>6.849476</td>\n",
       "      <td>4.835072</td>\n",
       "    </tr>\n",
       "    <tr>\n",
       "      <th>min</th>\n",
       "      <td>48.320000</td>\n",
       "      <td>112.200000</td>\n",
       "      <td>38.100000</td>\n",
       "      <td>50.300000</td>\n",
       "      <td>28.200000</td>\n",
       "      <td>27.100000</td>\n",
       "    </tr>\n",
       "    <tr>\n",
       "      <th>25%</th>\n",
       "      <td>50.650000</td>\n",
       "      <td>124.900000</td>\n",
       "      <td>68.900000</td>\n",
       "      <td>76.600000</td>\n",
       "      <td>38.400000</td>\n",
       "      <td>35.700000</td>\n",
       "    </tr>\n",
       "    <tr>\n",
       "      <th>50%</th>\n",
       "      <td>51.140000</td>\n",
       "      <td>127.400000</td>\n",
       "      <td>73.600000</td>\n",
       "      <td>81.400000</td>\n",
       "      <td>41.300000</td>\n",
       "      <td>37.600000</td>\n",
       "    </tr>\n",
       "    <tr>\n",
       "      <th>75%</th>\n",
       "      <td>51.630000</td>\n",
       "      <td>129.800000</td>\n",
       "      <td>79.900000</td>\n",
       "      <td>86.000000</td>\n",
       "      <td>44.400000</td>\n",
       "      <td>39.900000</td>\n",
       "    </tr>\n",
       "    <tr>\n",
       "      <th>max</th>\n",
       "      <td>60.320000</td>\n",
       "      <td>140.900000</td>\n",
       "      <td>107.700000</td>\n",
       "      <td>112.100000</td>\n",
       "      <td>82.300000</td>\n",
       "      <td>62.400000</td>\n",
       "    </tr>\n",
       "  </tbody>\n",
       "</table>\n",
       "</div>"
      ],
      "text/plain": [
       "         Distance    MaxSpeed    AvgSpeed  AvgMovingSpeed   TotalTime  \\\n",
       "count  205.000000  205.000000  205.000000      205.000000  205.000000   \n",
       "mean    50.981512  127.591707   74.477561       81.975610   41.904390   \n",
       "std      1.321205    4.128450   11.409816       10.111544    6.849476   \n",
       "min     48.320000  112.200000   38.100000       50.300000   28.200000   \n",
       "25%     50.650000  124.900000   68.900000       76.600000   38.400000   \n",
       "50%     51.140000  127.400000   73.600000       81.400000   41.300000   \n",
       "75%     51.630000  129.800000   79.900000       86.000000   44.400000   \n",
       "max     60.320000  140.900000  107.700000      112.100000   82.300000   \n",
       "\n",
       "       MovingTime  \n",
       "count  205.000000  \n",
       "mean    37.871707  \n",
       "std      4.835072  \n",
       "min     27.100000  \n",
       "25%     35.700000  \n",
       "50%     37.600000  \n",
       "75%     39.900000  \n",
       "max     62.400000  "
      ]
     },
     "execution_count": 20,
     "metadata": {},
     "output_type": "execute_result"
    }
   ],
   "source": [
    "data.describe()"
   ]
  },
  {
   "cell_type": "code",
   "execution_count": 21,
   "metadata": {},
   "outputs": [
    {
     "data": {
      "text/html": [
       "<div>\n",
       "<style scoped>\n",
       "    .dataframe tbody tr th:only-of-type {\n",
       "        vertical-align: middle;\n",
       "    }\n",
       "\n",
       "    .dataframe tbody tr th {\n",
       "        vertical-align: top;\n",
       "    }\n",
       "\n",
       "    .dataframe thead th {\n",
       "        text-align: right;\n",
       "    }\n",
       "</style>\n",
       "<table border=\"1\" class=\"dataframe\">\n",
       "  <thead>\n",
       "    <tr style=\"text-align: right;\">\n",
       "      <th></th>\n",
       "      <th>Date</th>\n",
       "      <th>StartTime</th>\n",
       "      <th>DayOfWeek</th>\n",
       "      <th>GoingTo</th>\n",
       "      <th>Distance</th>\n",
       "      <th>MaxSpeed</th>\n",
       "      <th>AvgSpeed</th>\n",
       "      <th>AvgMovingSpeed</th>\n",
       "      <th>FuelEconomy</th>\n",
       "      <th>TotalTime</th>\n",
       "      <th>MovingTime</th>\n",
       "      <th>Take407All</th>\n",
       "    </tr>\n",
       "  </thead>\n",
       "  <tbody>\n",
       "    <tr>\n",
       "      <th>0</th>\n",
       "      <td>1/6/2012</td>\n",
       "      <td>16:37</td>\n",
       "      <td>Friday</td>\n",
       "      <td>Home</td>\n",
       "      <td>51.29</td>\n",
       "      <td>127.4</td>\n",
       "      <td>78.3</td>\n",
       "      <td>84.8</td>\n",
       "      <td>NA</td>\n",
       "      <td>39.3</td>\n",
       "      <td>36.3</td>\n",
       "      <td>No</td>\n",
       "    </tr>\n",
       "    <tr>\n",
       "      <th>1</th>\n",
       "      <td>1/6/2012</td>\n",
       "      <td>08:20</td>\n",
       "      <td>Friday</td>\n",
       "      <td>GSK</td>\n",
       "      <td>51.63</td>\n",
       "      <td>130.3</td>\n",
       "      <td>81.8</td>\n",
       "      <td>88.9</td>\n",
       "      <td>NA</td>\n",
       "      <td>37.9</td>\n",
       "      <td>34.9</td>\n",
       "      <td>No</td>\n",
       "    </tr>\n",
       "    <tr>\n",
       "      <th>2</th>\n",
       "      <td>1/4/2012</td>\n",
       "      <td>16:17</td>\n",
       "      <td>Wednesday</td>\n",
       "      <td>Home</td>\n",
       "      <td>51.27</td>\n",
       "      <td>127.4</td>\n",
       "      <td>82.0</td>\n",
       "      <td>85.8</td>\n",
       "      <td>NA</td>\n",
       "      <td>37.5</td>\n",
       "      <td>35.9</td>\n",
       "      <td>No</td>\n",
       "    </tr>\n",
       "    <tr>\n",
       "      <th>3</th>\n",
       "      <td>1/4/2012</td>\n",
       "      <td>07:53</td>\n",
       "      <td>Wednesday</td>\n",
       "      <td>GSK</td>\n",
       "      <td>49.17</td>\n",
       "      <td>132.3</td>\n",
       "      <td>74.2</td>\n",
       "      <td>82.9</td>\n",
       "      <td>NA</td>\n",
       "      <td>39.8</td>\n",
       "      <td>35.6</td>\n",
       "      <td>No</td>\n",
       "    </tr>\n",
       "    <tr>\n",
       "      <th>4</th>\n",
       "      <td>1/3/2012</td>\n",
       "      <td>18:57</td>\n",
       "      <td>Tuesday</td>\n",
       "      <td>Home</td>\n",
       "      <td>51.15</td>\n",
       "      <td>136.2</td>\n",
       "      <td>83.4</td>\n",
       "      <td>88.1</td>\n",
       "      <td>NA</td>\n",
       "      <td>36.8</td>\n",
       "      <td>34.8</td>\n",
       "      <td>No</td>\n",
       "    </tr>\n",
       "  </tbody>\n",
       "</table>\n",
       "</div>"
      ],
      "text/plain": [
       "       Date StartTime  DayOfWeek GoingTo  Distance  MaxSpeed  AvgSpeed  \\\n",
       "0  1/6/2012     16:37     Friday    Home     51.29     127.4      78.3   \n",
       "1  1/6/2012     08:20     Friday     GSK     51.63     130.3      81.8   \n",
       "2  1/4/2012     16:17  Wednesday    Home     51.27     127.4      82.0   \n",
       "3  1/4/2012     07:53  Wednesday     GSK     49.17     132.3      74.2   \n",
       "4  1/3/2012     18:57    Tuesday    Home     51.15     136.2      83.4   \n",
       "\n",
       "   AvgMovingSpeed FuelEconomy  TotalTime  MovingTime Take407All  \n",
       "0            84.8          NA       39.3        36.3         No  \n",
       "1            88.9          NA       37.9        34.9         No  \n",
       "2            85.8          NA       37.5        35.9         No  \n",
       "3            82.9          NA       39.8        35.6         No  \n",
       "4            88.1          NA       36.8        34.8         No  "
      ]
     },
     "execution_count": 21,
     "metadata": {},
     "output_type": "execute_result"
    }
   ],
   "source": [
    "data.head()"
   ]
  },
  {
   "cell_type": "code",
   "execution_count": 22,
   "metadata": {},
   "outputs": [
    {
     "name": "stdout",
     "output_type": "stream",
     "text": [
      "<class 'pandas.core.frame.DataFrame'>\n",
      "RangeIndex: 205 entries, 0 to 204\n",
      "Data columns (total 12 columns):\n",
      " #   Column          Non-Null Count  Dtype  \n",
      "---  ------          --------------  -----  \n",
      " 0   Date            205 non-null    object \n",
      " 1   StartTime       205 non-null    object \n",
      " 2   DayOfWeek       205 non-null    object \n",
      " 3   GoingTo         205 non-null    object \n",
      " 4   Distance        205 non-null    float64\n",
      " 5   MaxSpeed        205 non-null    float64\n",
      " 6   AvgSpeed        205 non-null    float64\n",
      " 7   AvgMovingSpeed  205 non-null    float64\n",
      " 8   FuelEconomy     205 non-null    object \n",
      " 9   TotalTime       205 non-null    float64\n",
      " 10  MovingTime      205 non-null    float64\n",
      " 11  Take407All      205 non-null    object \n",
      "dtypes: float64(6), object(6)\n",
      "memory usage: 19.3+ KB\n"
     ]
    }
   ],
   "source": [
    "data.info()"
   ]
  },
  {
   "cell_type": "code",
   "execution_count": 23,
   "metadata": {},
   "outputs": [],
   "source": [
    "data['Count'] = 1"
   ]
  },
  {
   "cell_type": "code",
   "execution_count": 24,
   "metadata": {},
   "outputs": [
    {
     "data": {
      "text/html": [
       "<div>\n",
       "<style scoped>\n",
       "    .dataframe tbody tr th:only-of-type {\n",
       "        vertical-align: middle;\n",
       "    }\n",
       "\n",
       "    .dataframe tbody tr th {\n",
       "        vertical-align: top;\n",
       "    }\n",
       "\n",
       "    .dataframe thead th {\n",
       "        text-align: right;\n",
       "    }\n",
       "</style>\n",
       "<table border=\"1\" class=\"dataframe\">\n",
       "  <thead>\n",
       "    <tr style=\"text-align: right;\">\n",
       "      <th></th>\n",
       "      <th>GoingTo</th>\n",
       "      <th>Count</th>\n",
       "    </tr>\n",
       "  </thead>\n",
       "  <tbody>\n",
       "    <tr>\n",
       "      <th>0</th>\n",
       "      <td>GSK</td>\n",
       "      <td>105</td>\n",
       "    </tr>\n",
       "    <tr>\n",
       "      <th>1</th>\n",
       "      <td>Home</td>\n",
       "      <td>100</td>\n",
       "    </tr>\n",
       "  </tbody>\n",
       "</table>\n",
       "</div>"
      ],
      "text/plain": [
       "  GoingTo  Count\n",
       "0     GSK    105\n",
       "1    Home    100"
      ]
     },
     "execution_count": 24,
     "metadata": {},
     "output_type": "execute_result"
    }
   ],
   "source": [
    "a = data.groupby('GoingTo', as_index=False)['Count'].sum()\n",
    "a"
   ]
  },
  {
   "cell_type": "code",
   "execution_count": 25,
   "metadata": {},
   "outputs": [
    {
     "data": {
      "image/png": "[encoded data removed]",
      "text/plain": [
       "<Figure size 432x288 with 1 Axes>"
      ]
     },
     "metadata": {},
     "output_type": "display_data"
    }
   ],
   "source": [
    "import matplotlib.pyplot as plt\n",
    "plt.style.use('dark_background')\n",
    "import seaborn as sns\n",
    "\n",
    "ax = sns.barplot(x = 'GoingTo', y = 'Count', data=a)\n",
    "plt.show()"
   ]
  },
  {
   "cell_type": "code",
   "execution_count": 26,
   "metadata": {},
   "outputs": [
    {
     "data": {
      "text/html": [
       "<div>\n",
       "<style scoped>\n",
       "    .dataframe tbody tr th:only-of-type {\n",
       "        vertical-align: middle;\n",
       "    }\n",
       "\n",
       "    .dataframe tbody tr th {\n",
       "        vertical-align: top;\n",
       "    }\n",
       "\n",
       "    .dataframe thead th {\n",
       "        text-align: right;\n",
       "    }\n",
       "</style>\n",
       "<table border=\"1\" class=\"dataframe\">\n",
       "  <thead>\n",
       "    <tr style=\"text-align: right;\">\n",
       "      <th></th>\n",
       "      <th>DayOfWeek</th>\n",
       "      <th>Count</th>\n",
       "    </tr>\n",
       "  </thead>\n",
       "  <tbody>\n",
       "    <tr>\n",
       "      <th>3</th>\n",
       "      <td>Tuesday</td>\n",
       "      <td>48</td>\n",
       "    </tr>\n",
       "    <tr>\n",
       "      <th>4</th>\n",
       "      <td>Wednesday</td>\n",
       "      <td>47</td>\n",
       "    </tr>\n",
       "    <tr>\n",
       "      <th>2</th>\n",
       "      <td>Thursday</td>\n",
       "      <td>44</td>\n",
       "    </tr>\n",
       "    <tr>\n",
       "      <th>1</th>\n",
       "      <td>Monday</td>\n",
       "      <td>39</td>\n",
       "    </tr>\n",
       "    <tr>\n",
       "      <th>0</th>\n",
       "      <td>Friday</td>\n",
       "      <td>27</td>\n",
       "    </tr>\n",
       "  </tbody>\n",
       "</table>\n",
       "</div>"
      ],
      "text/plain": [
       "   DayOfWeek  Count\n",
       "3    Tuesday     48\n",
       "4  Wednesday     47\n",
       "2   Thursday     44\n",
       "1     Monday     39\n",
       "0     Friday     27"
      ]
     },
     "execution_count": 26,
     "metadata": {},
     "output_type": "execute_result"
    }
   ],
   "source": [
    "dow = data.groupby('DayOfWeek', as_index=False)['Count'].sum()\n",
    "dow.sort_values('Count', ascending=False)"
   ]
  },
  {
   "cell_type": "code",
   "execution_count": 27,
   "metadata": {},
   "outputs": [
    {
     "data": {
      "image/png": "[encoded data removed]",
      "text/plain": [
       "<Figure size 432x288 with 1 Axes>"
      ]
     },
     "metadata": {},
     "output_type": "display_data"
    }
   ],
   "source": [
    "ax2 = sns.barplot(x = 'DayOfWeek', y = 'Count', data = dow)\n",
    "ax2.set_xticklabels(ax2.get_xticklabels(), rotation = 90)\n",
    "plt.show()"
   ]
  },
  {
   "cell_type": "code",
   "execution_count": 28,
   "metadata": {},
   "outputs": [
    {
     "name": "stderr",
     "output_type": "stream",
     "text": [
      "C:\\Users\\pm_\\anaconda3\\lib\\site-packages\\seaborn\\distributions.py:2551: FutureWarning: `distplot` is a deprecated function and will be removed in a future version. Please adapt your code to use either `displot` (a figure-level function with similar flexibility) or `histplot` (an axes-level function for histograms).\n",
      "  warnings.warn(msg, FutureWarning)\n"
     ]
    },
    {
     "data": {
      "image/png": "[encoded data removed]",
      "text/plain": [
       "<Figure size 432x288 with 1 Axes>"
      ]
     },
     "metadata": {},
     "output_type": "display_data"
    }
   ],
   "source": [
    "ax3 = sns.distplot(data['Distance'])"
   ]
  },
  {
   "cell_type": "code",
   "execution_count": 29,
   "metadata": {},
   "outputs": [
    {
     "name": "stderr",
     "output_type": "stream",
     "text": [
      "C:\\Users\\pm_\\anaconda3\\lib\\site-packages\\seaborn\\distributions.py:2551: FutureWarning: `distplot` is a deprecated function and will be removed in a future version. Please adapt your code to use either `displot` (a figure-level function with similar flexibility) or `histplot` (an axes-level function for histograms).\n",
      "  warnings.warn(msg, FutureWarning)\n"
     ]
    },
    {
     "data": {
      "image/png": "[encoded data removed]",
      "text/plain": [
       "<Figure size 432x288 with 1 Axes>"
      ]
     },
     "metadata": {},
     "output_type": "display_data"
    }
   ],
   "source": [
    "ax3 = sns.distplot(data['Distance'], bins=10)"
   ]
  },
  {
   "cell_type": "code",
   "execution_count": 30,
   "metadata": {},
   "outputs": [
    {
     "name": "stderr",
     "output_type": "stream",
     "text": [
      "C:\\Users\\pm_\\anaconda3\\lib\\site-packages\\seaborn\\_decorators.py:36: FutureWarning: Pass the following variable as a keyword arg: x. From version 0.12, the only valid positional argument will be `data`, and passing other arguments without an explicit keyword will result in an error or misinterpretation.\n",
      "  warnings.warn(\n"
     ]
    },
    {
     "data": {
      "image/png": "[encoded data removed]",
      "text/plain": [
       "<Figure size 432x288 with 1 Axes>"
      ]
     },
     "metadata": {},
     "output_type": "display_data"
    }
   ],
   "source": [
    "box = sns.boxplot(data['Distance'])"
   ]
  },
  {
   "cell_type": "code",
   "execution_count": 31,
   "metadata": {},
   "outputs": [
    {
     "name": "stdout",
     "output_type": "stream",
     "text": [
      "50.65\n",
      "51.63\n",
      "0.980000000000004\n"
     ]
    }
   ],
   "source": [
    "from scipy.stats import iqr\n",
    "\n",
    "dq1 = data['Distance'].quantile(0.25)\n",
    "dq3 = data['Distance'].quantile(0.75)\n",
    "inter_dqr = iqr(data['Distance'])\n",
    "print(dq1)\n",
    "print(dq3)\n",
    "print(inter_dqr)"
   ]
  },
  {
   "cell_type": "code",
   "execution_count": 32,
   "metadata": {},
   "outputs": [
    {
     "data": {
      "text/html": [
       "<div>\n",
       "<style scoped>\n",
       "    .dataframe tbody tr th:only-of-type {\n",
       "        vertical-align: middle;\n",
       "    }\n",
       "\n",
       "    .dataframe tbody tr th {\n",
       "        vertical-align: top;\n",
       "    }\n",
       "\n",
       "    .dataframe thead th {\n",
       "        text-align: right;\n",
       "    }\n",
       "</style>\n",
       "<table border=\"1\" class=\"dataframe\">\n",
       "  <thead>\n",
       "    <tr style=\"text-align: right;\">\n",
       "      <th></th>\n",
       "      <th>Date</th>\n",
       "      <th>StartTime</th>\n",
       "      <th>DayOfWeek</th>\n",
       "      <th>GoingTo</th>\n",
       "      <th>Distance</th>\n",
       "      <th>MaxSpeed</th>\n",
       "      <th>AvgSpeed</th>\n",
       "      <th>AvgMovingSpeed</th>\n",
       "      <th>FuelEconomy</th>\n",
       "      <th>TotalTime</th>\n",
       "      <th>MovingTime</th>\n",
       "      <th>Take407All</th>\n",
       "      <th>Count</th>\n",
       "      <th>Outliers</th>\n",
       "    </tr>\n",
       "  </thead>\n",
       "  <tbody>\n",
       "    <tr>\n",
       "      <th>0</th>\n",
       "      <td>1/6/2012</td>\n",
       "      <td>16:37</td>\n",
       "      <td>Friday</td>\n",
       "      <td>Home</td>\n",
       "      <td>51.29</td>\n",
       "      <td>127.4</td>\n",
       "      <td>78.3</td>\n",
       "      <td>84.8</td>\n",
       "      <td>NA</td>\n",
       "      <td>39.3</td>\n",
       "      <td>36.3</td>\n",
       "      <td>No</td>\n",
       "      <td>1</td>\n",
       "      <td>0</td>\n",
       "    </tr>\n",
       "    <tr>\n",
       "      <th>1</th>\n",
       "      <td>1/6/2012</td>\n",
       "      <td>08:20</td>\n",
       "      <td>Friday</td>\n",
       "      <td>GSK</td>\n",
       "      <td>51.63</td>\n",
       "      <td>130.3</td>\n",
       "      <td>81.8</td>\n",
       "      <td>88.9</td>\n",
       "      <td>NA</td>\n",
       "      <td>37.9</td>\n",
       "      <td>34.9</td>\n",
       "      <td>No</td>\n",
       "      <td>1</td>\n",
       "      <td>0</td>\n",
       "    </tr>\n",
       "    <tr>\n",
       "      <th>2</th>\n",
       "      <td>1/4/2012</td>\n",
       "      <td>16:17</td>\n",
       "      <td>Wednesday</td>\n",
       "      <td>Home</td>\n",
       "      <td>51.27</td>\n",
       "      <td>127.4</td>\n",
       "      <td>82.0</td>\n",
       "      <td>85.8</td>\n",
       "      <td>NA</td>\n",
       "      <td>37.5</td>\n",
       "      <td>35.9</td>\n",
       "      <td>No</td>\n",
       "      <td>1</td>\n",
       "      <td>0</td>\n",
       "    </tr>\n",
       "    <tr>\n",
       "      <th>3</th>\n",
       "      <td>1/4/2012</td>\n",
       "      <td>07:53</td>\n",
       "      <td>Wednesday</td>\n",
       "      <td>GSK</td>\n",
       "      <td>49.17</td>\n",
       "      <td>132.3</td>\n",
       "      <td>74.2</td>\n",
       "      <td>82.9</td>\n",
       "      <td>NA</td>\n",
       "      <td>39.8</td>\n",
       "      <td>35.6</td>\n",
       "      <td>No</td>\n",
       "      <td>1</td>\n",
       "      <td>1</td>\n",
       "    </tr>\n",
       "    <tr>\n",
       "      <th>4</th>\n",
       "      <td>1/3/2012</td>\n",
       "      <td>18:57</td>\n",
       "      <td>Tuesday</td>\n",
       "      <td>Home</td>\n",
       "      <td>51.15</td>\n",
       "      <td>136.2</td>\n",
       "      <td>83.4</td>\n",
       "      <td>88.1</td>\n",
       "      <td>NA</td>\n",
       "      <td>36.8</td>\n",
       "      <td>34.8</td>\n",
       "      <td>No</td>\n",
       "      <td>1</td>\n",
       "      <td>0</td>\n",
       "    </tr>\n",
       "  </tbody>\n",
       "</table>\n",
       "</div>"
      ],
      "text/plain": [
       "       Date StartTime  DayOfWeek GoingTo  Distance  MaxSpeed  AvgSpeed  \\\n",
       "0  1/6/2012     16:37     Friday    Home     51.29     127.4      78.3   \n",
       "1  1/6/2012     08:20     Friday     GSK     51.63     130.3      81.8   \n",
       "2  1/4/2012     16:17  Wednesday    Home     51.27     127.4      82.0   \n",
       "3  1/4/2012     07:53  Wednesday     GSK     49.17     132.3      74.2   \n",
       "4  1/3/2012     18:57    Tuesday    Home     51.15     136.2      83.4   \n",
       "\n",
       "   AvgMovingSpeed FuelEconomy  TotalTime  MovingTime Take407All  Count  \\\n",
       "0            84.8          NA       39.3        36.3         No      1   \n",
       "1            88.9          NA       37.9        34.9         No      1   \n",
       "2            85.8          NA       37.5        35.9         No      1   \n",
       "3            82.9          NA       39.8        35.6         No      1   \n",
       "4            88.1          NA       36.8        34.8         No      1   \n",
       "\n",
       "   Outliers  \n",
       "0         0  \n",
       "1         0  \n",
       "2         0  \n",
       "3         1  \n",
       "4         0  "
      ]
     },
     "execution_count": 32,
     "metadata": {},
     "output_type": "execute_result"
    }
   ],
   "source": [
    "import numpy as np\n",
    "data['Outliers'] = 0\n",
    "data['Outliers']= np.where(data['Distance']>(dq3 + 1.5*inter_dqr), 1, data['Outliers'])\n",
    "data['Outliers']= np.where(data['Distance']<(dq1 - 1.5*inter_dqr), 1, data['Outliers'])\n",
    "data.head()"
   ]
  },
  {
   "cell_type": "code",
   "execution_count": 33,
   "metadata": {},
   "outputs": [
    {
     "name": "stderr",
     "output_type": "stream",
     "text": [
      "C:\\Users\\pm_\\anaconda3\\lib\\site-packages\\seaborn\\_decorators.py:36: FutureWarning: Pass the following variable as a keyword arg: x. From version 0.12, the only valid positional argument will be `data`, and passing other arguments without an explicit keyword will result in an error or misinterpretation.\n",
      "  warnings.warn(\n"
     ]
    },
    {
     "data": {
      "image/png": "[encoded data removed]",
      "text/plain": [
       "<Figure size 432x288 with 1 Axes>"
      ]
     },
     "metadata": {},
     "output_type": "display_data"
    }
   ],
   "source": [
    "box2 = sns.boxplot(data['MaxSpeed'])"
   ]
  },
  {
   "cell_type": "code",
   "execution_count": 34,
   "metadata": {},
   "outputs": [],
   "source": [
    "# mq1 = data['MaxSpeed'].quantile(0.25)\n",
    "# mq3 = data['MaxSpeed'].quantile(0.75)\n",
    "# inter_mqr = iqr(data['MaxSpeed'])\n",
    "# print(mq1)\n",
    "# print(mq3)\n",
    "# print(inter_mqr)"
   ]
  },
  {
   "cell_type": "code",
   "execution_count": 35,
   "metadata": {},
   "outputs": [],
   "source": [
    "# data['Outliers']= np.where(data['MaxSpeed']>(mq3 + 1.5*inter_mqr), 1, data['Outliers'])\n",
    "# data['Outliers']= np.where(data['MaxSpeed']<(mq1 - 1.5*inter_mqr), 1, data['Outliers'])\n",
    "# data.head()"
   ]
  },
  {
   "cell_type": "code",
   "execution_count": 36,
   "metadata": {},
   "outputs": [
    {
     "name": "stdout",
     "output_type": "stream",
     "text": [
      "<class 'pandas.core.frame.DataFrame'>\n",
      "RangeIndex: 205 entries, 0 to 204\n",
      "Data columns (total 14 columns):\n",
      " #   Column          Non-Null Count  Dtype  \n",
      "---  ------          --------------  -----  \n",
      " 0   Date            205 non-null    object \n",
      " 1   StartTime       205 non-null    object \n",
      " 2   DayOfWeek       205 non-null    object \n",
      " 3   GoingTo         205 non-null    object \n",
      " 4   Distance        205 non-null    float64\n",
      " 5   MaxSpeed        205 non-null    float64\n",
      " 6   AvgSpeed        205 non-null    float64\n",
      " 7   AvgMovingSpeed  205 non-null    float64\n",
      " 8   FuelEconomy     205 non-null    object \n",
      " 9   TotalTime       205 non-null    float64\n",
      " 10  MovingTime      205 non-null    float64\n",
      " 11  Take407All      205 non-null    object \n",
      " 12  Count           205 non-null    int64  \n",
      " 13  Outliers        205 non-null    int64  \n",
      "dtypes: float64(6), int64(2), object(6)\n",
      "memory usage: 22.5+ KB\n"
     ]
    }
   ],
   "source": [
    "data.info()"
   ]
  },
  {
   "cell_type": "code",
   "execution_count": 37,
   "metadata": {},
   "outputs": [
    {
     "name": "stderr",
     "output_type": "stream",
     "text": [
      "C:\\Users\\pm_\\anaconda3\\lib\\site-packages\\seaborn\\_decorators.py:36: FutureWarning: Pass the following variable as a keyword arg: x. From version 0.12, the only valid positional argument will be `data`, and passing other arguments without an explicit keyword will result in an error or misinterpretation.\n",
      "  warnings.warn(\n"
     ]
    },
    {
     "data": {
      "image/png": "[encoded data removed]",
      "text/plain": [
       "<Figure size 432x288 with 1 Axes>"
      ]
     },
     "metadata": {},
     "output_type": "display_data"
    }
   ],
   "source": [
    "boxt = sns.boxplot(data['TotalTime'])"
   ]
  },
  {
   "cell_type": "code",
   "execution_count": 38,
   "metadata": {},
   "outputs": [
    {
     "name": "stdout",
     "output_type": "stream",
     "text": [
      "38.4\n",
      "44.4\n",
      "6.0\n"
     ]
    }
   ],
   "source": [
    "tq1 = data['TotalTime'].quantile(0.25)\n",
    "tq3 = data['TotalTime'].quantile(0.75)\n",
    "inter_tqr = iqr(data['TotalTime'])\n",
    "print(tq1)\n",
    "print(tq3)\n",
    "print(inter_tqr)"
   ]
  },
  {
   "cell_type": "code",
   "execution_count": 39,
   "metadata": {},
   "outputs": [
    {
     "data": {
      "text/html": [
       "<div>\n",
       "<style scoped>\n",
       "    .dataframe tbody tr th:only-of-type {\n",
       "        vertical-align: middle;\n",
       "    }\n",
       "\n",
       "    .dataframe tbody tr th {\n",
       "        vertical-align: top;\n",
       "    }\n",
       "\n",
       "    .dataframe thead th {\n",
       "        text-align: right;\n",
       "    }\n",
       "</style>\n",
       "<table border=\"1\" class=\"dataframe\">\n",
       "  <thead>\n",
       "    <tr style=\"text-align: right;\">\n",
       "      <th></th>\n",
       "      <th>Date</th>\n",
       "      <th>StartTime</th>\n",
       "      <th>DayOfWeek</th>\n",
       "      <th>GoingTo</th>\n",
       "      <th>Distance</th>\n",
       "      <th>MaxSpeed</th>\n",
       "      <th>AvgSpeed</th>\n",
       "      <th>AvgMovingSpeed</th>\n",
       "      <th>FuelEconomy</th>\n",
       "      <th>TotalTime</th>\n",
       "      <th>MovingTime</th>\n",
       "      <th>Take407All</th>\n",
       "      <th>Count</th>\n",
       "      <th>Outliers</th>\n",
       "    </tr>\n",
       "  </thead>\n",
       "  <tbody>\n",
       "    <tr>\n",
       "      <th>0</th>\n",
       "      <td>1/6/2012</td>\n",
       "      <td>16:37</td>\n",
       "      <td>Friday</td>\n",
       "      <td>Home</td>\n",
       "      <td>51.29</td>\n",
       "      <td>127.4</td>\n",
       "      <td>78.3</td>\n",
       "      <td>84.8</td>\n",
       "      <td>NA</td>\n",
       "      <td>39.3</td>\n",
       "      <td>36.3</td>\n",
       "      <td>No</td>\n",
       "      <td>1</td>\n",
       "      <td>0</td>\n",
       "    </tr>\n",
       "    <tr>\n",
       "      <th>1</th>\n",
       "      <td>1/6/2012</td>\n",
       "      <td>08:20</td>\n",
       "      <td>Friday</td>\n",
       "      <td>GSK</td>\n",
       "      <td>51.63</td>\n",
       "      <td>130.3</td>\n",
       "      <td>81.8</td>\n",
       "      <td>88.9</td>\n",
       "      <td>NA</td>\n",
       "      <td>37.9</td>\n",
       "      <td>34.9</td>\n",
       "      <td>No</td>\n",
       "      <td>1</td>\n",
       "      <td>0</td>\n",
       "    </tr>\n",
       "    <tr>\n",
       "      <th>2</th>\n",
       "      <td>1/4/2012</td>\n",
       "      <td>16:17</td>\n",
       "      <td>Wednesday</td>\n",
       "      <td>Home</td>\n",
       "      <td>51.27</td>\n",
       "      <td>127.4</td>\n",
       "      <td>82.0</td>\n",
       "      <td>85.8</td>\n",
       "      <td>NA</td>\n",
       "      <td>37.5</td>\n",
       "      <td>35.9</td>\n",
       "      <td>No</td>\n",
       "      <td>1</td>\n",
       "      <td>0</td>\n",
       "    </tr>\n",
       "    <tr>\n",
       "      <th>3</th>\n",
       "      <td>1/4/2012</td>\n",
       "      <td>07:53</td>\n",
       "      <td>Wednesday</td>\n",
       "      <td>GSK</td>\n",
       "      <td>49.17</td>\n",
       "      <td>132.3</td>\n",
       "      <td>74.2</td>\n",
       "      <td>82.9</td>\n",
       "      <td>NA</td>\n",
       "      <td>39.8</td>\n",
       "      <td>35.6</td>\n",
       "      <td>No</td>\n",
       "      <td>1</td>\n",
       "      <td>1</td>\n",
       "    </tr>\n",
       "    <tr>\n",
       "      <th>4</th>\n",
       "      <td>1/3/2012</td>\n",
       "      <td>18:57</td>\n",
       "      <td>Tuesday</td>\n",
       "      <td>Home</td>\n",
       "      <td>51.15</td>\n",
       "      <td>136.2</td>\n",
       "      <td>83.4</td>\n",
       "      <td>88.1</td>\n",
       "      <td>NA</td>\n",
       "      <td>36.8</td>\n",
       "      <td>34.8</td>\n",
       "      <td>No</td>\n",
       "      <td>1</td>\n",
       "      <td>0</td>\n",
       "    </tr>\n",
       "  </tbody>\n",
       "</table>\n",
       "</div>"
      ],
      "text/plain": [
       "       Date StartTime  DayOfWeek GoingTo  Distance  MaxSpeed  AvgSpeed  \\\n",
       "0  1/6/2012     16:37     Friday    Home     51.29     127.4      78.3   \n",
       "1  1/6/2012     08:20     Friday     GSK     51.63     130.3      81.8   \n",
       "2  1/4/2012     16:17  Wednesday    Home     51.27     127.4      82.0   \n",
       "3  1/4/2012     07:53  Wednesday     GSK     49.17     132.3      74.2   \n",
       "4  1/3/2012     18:57    Tuesday    Home     51.15     136.2      83.4   \n",
       "\n",
       "   AvgMovingSpeed FuelEconomy  TotalTime  MovingTime Take407All  Count  \\\n",
       "0            84.8          NA       39.3        36.3         No      1   \n",
       "1            88.9          NA       37.9        34.9         No      1   \n",
       "2            85.8          NA       37.5        35.9         No      1   \n",
       "3            82.9          NA       39.8        35.6         No      1   \n",
       "4            88.1          NA       36.8        34.8         No      1   \n",
       "\n",
       "   Outliers  \n",
       "0         0  \n",
       "1         0  \n",
       "2         0  \n",
       "3         1  \n",
       "4         0  "
      ]
     },
     "execution_count": 39,
     "metadata": {},
     "output_type": "execute_result"
    }
   ],
   "source": [
    "data['Outliers']= np.where(data['TotalTime']>(tq3 + 1.5*inter_tqr), 1, data['Outliers'])\n",
    "data['Outliers']= np.where(data['TotalTime']<(tq1 - 1.5*inter_tqr), 1, data['Outliers'])\n",
    "data.head()"
   ]
  },
  {
   "cell_type": "code",
   "execution_count": 40,
   "metadata": {},
   "outputs": [
    {
     "name": "stdout",
     "output_type": "stream",
     "text": [
      "<class 'pandas.core.frame.DataFrame'>\n",
      "RangeIndex: 205 entries, 0 to 204\n",
      "Data columns (total 14 columns):\n",
      " #   Column          Non-Null Count  Dtype  \n",
      "---  ------          --------------  -----  \n",
      " 0   Date            205 non-null    object \n",
      " 1   StartTime       205 non-null    object \n",
      " 2   DayOfWeek       205 non-null    object \n",
      " 3   GoingTo         205 non-null    object \n",
      " 4   Distance        205 non-null    float64\n",
      " 5   MaxSpeed        205 non-null    float64\n",
      " 6   AvgSpeed        205 non-null    float64\n",
      " 7   AvgMovingSpeed  205 non-null    float64\n",
      " 8   FuelEconomy     205 non-null    object \n",
      " 9   TotalTime       205 non-null    float64\n",
      " 10  MovingTime      205 non-null    float64\n",
      " 11  Take407All      205 non-null    object \n",
      " 12  Count           205 non-null    int64  \n",
      " 13  Outliers        205 non-null    int64  \n",
      "dtypes: float64(6), int64(2), object(6)\n",
      "memory usage: 22.5+ KB\n"
     ]
    }
   ],
   "source": [
    "data.info()"
   ]
  },
  {
   "cell_type": "code",
   "execution_count": 41,
   "metadata": {},
   "outputs": [
    {
     "data": {
      "text/plain": [
       "0    152\n",
       "1     53\n",
       "Name: Outliers, dtype: int64"
      ]
     },
     "execution_count": 41,
     "metadata": {},
     "output_type": "execute_result"
    }
   ],
   "source": [
    "data.Outliers.value_counts()"
   ]
  },
  {
   "cell_type": "code",
   "execution_count": 42,
   "metadata": {},
   "outputs": [
    {
     "data": {
      "text/plain": [
       "count    205.000000\n",
       "mean      37.871707\n",
       "std        4.835072\n",
       "min       27.100000\n",
       "25%       35.700000\n",
       "50%       37.600000\n",
       "75%       39.900000\n",
       "max       62.400000\n",
       "Name: MovingTime, dtype: float64"
      ]
     },
     "execution_count": 42,
     "metadata": {},
     "output_type": "execute_result"
    }
   ],
   "source": [
    "data.MovingTime.describe()"
   ]
  },
  {
   "cell_type": "code",
   "execution_count": 43,
   "metadata": {},
   "outputs": [
    {
     "data": {
      "text/plain": [
       "count    205.000000\n",
       "mean      81.975610\n",
       "std       10.111544\n",
       "min       50.300000\n",
       "25%       76.600000\n",
       "50%       81.400000\n",
       "75%       86.000000\n",
       "max      112.100000\n",
       "Name: AvgMovingSpeed, dtype: float64"
      ]
     },
     "execution_count": 43,
     "metadata": {},
     "output_type": "execute_result"
    }
   ],
   "source": [
    "data.AvgMovingSpeed.describe()"
   ]
  },
  {
   "cell_type": "code",
   "execution_count": 44,
   "metadata": {},
   "outputs": [
    {
     "data": {
      "text/html": [
       "<div>\n",
       "<style scoped>\n",
       "    .dataframe tbody tr th:only-of-type {\n",
       "        vertical-align: middle;\n",
       "    }\n",
       "\n",
       "    .dataframe tbody tr th {\n",
       "        vertical-align: top;\n",
       "    }\n",
       "\n",
       "    .dataframe thead th {\n",
       "        text-align: right;\n",
       "    }\n",
       "</style>\n",
       "<table border=\"1\" class=\"dataframe\">\n",
       "  <thead>\n",
       "    <tr style=\"text-align: right;\">\n",
       "      <th></th>\n",
       "      <th>Date</th>\n",
       "      <th>StartTime</th>\n",
       "      <th>DayOfWeek</th>\n",
       "      <th>GoingTo</th>\n",
       "      <th>Distance</th>\n",
       "      <th>MaxSpeed</th>\n",
       "      <th>AvgSpeed</th>\n",
       "      <th>AvgMovingSpeed</th>\n",
       "      <th>FuelEconomy</th>\n",
       "      <th>TotalTime</th>\n",
       "      <th>MovingTime</th>\n",
       "      <th>Take407All</th>\n",
       "      <th>Count</th>\n",
       "      <th>Outliers</th>\n",
       "    </tr>\n",
       "  </thead>\n",
       "  <tbody>\n",
       "    <tr>\n",
       "      <th>0</th>\n",
       "      <td>1/6/2012</td>\n",
       "      <td>16:37</td>\n",
       "      <td>Friday</td>\n",
       "      <td>Home</td>\n",
       "      <td>51.29</td>\n",
       "      <td>127.4</td>\n",
       "      <td>78.3</td>\n",
       "      <td>84.8</td>\n",
       "      <td>NA</td>\n",
       "      <td>39.3</td>\n",
       "      <td>36.3</td>\n",
       "      <td>No</td>\n",
       "      <td>1</td>\n",
       "      <td>0</td>\n",
       "    </tr>\n",
       "    <tr>\n",
       "      <th>1</th>\n",
       "      <td>1/6/2012</td>\n",
       "      <td>08:20</td>\n",
       "      <td>Friday</td>\n",
       "      <td>GSK</td>\n",
       "      <td>51.63</td>\n",
       "      <td>130.3</td>\n",
       "      <td>81.8</td>\n",
       "      <td>88.9</td>\n",
       "      <td>NA</td>\n",
       "      <td>37.9</td>\n",
       "      <td>34.9</td>\n",
       "      <td>No</td>\n",
       "      <td>1</td>\n",
       "      <td>0</td>\n",
       "    </tr>\n",
       "    <tr>\n",
       "      <th>2</th>\n",
       "      <td>1/4/2012</td>\n",
       "      <td>16:17</td>\n",
       "      <td>Wednesday</td>\n",
       "      <td>Home</td>\n",
       "      <td>51.27</td>\n",
       "      <td>127.4</td>\n",
       "      <td>82.0</td>\n",
       "      <td>85.8</td>\n",
       "      <td>NA</td>\n",
       "      <td>37.5</td>\n",
       "      <td>35.9</td>\n",
       "      <td>No</td>\n",
       "      <td>1</td>\n",
       "      <td>0</td>\n",
       "    </tr>\n",
       "    <tr>\n",
       "      <th>3</th>\n",
       "      <td>1/4/2012</td>\n",
       "      <td>07:53</td>\n",
       "      <td>Wednesday</td>\n",
       "      <td>GSK</td>\n",
       "      <td>49.17</td>\n",
       "      <td>132.3</td>\n",
       "      <td>74.2</td>\n",
       "      <td>82.9</td>\n",
       "      <td>NA</td>\n",
       "      <td>39.8</td>\n",
       "      <td>35.6</td>\n",
       "      <td>No</td>\n",
       "      <td>1</td>\n",
       "      <td>1</td>\n",
       "    </tr>\n",
       "    <tr>\n",
       "      <th>4</th>\n",
       "      <td>1/3/2012</td>\n",
       "      <td>18:57</td>\n",
       "      <td>Tuesday</td>\n",
       "      <td>Home</td>\n",
       "      <td>51.15</td>\n",
       "      <td>136.2</td>\n",
       "      <td>83.4</td>\n",
       "      <td>88.1</td>\n",
       "      <td>NA</td>\n",
       "      <td>36.8</td>\n",
       "      <td>34.8</td>\n",
       "      <td>No</td>\n",
       "      <td>1</td>\n",
       "      <td>0</td>\n",
       "    </tr>\n",
       "  </tbody>\n",
       "</table>\n",
       "</div>"
      ],
      "text/plain": [
       "       Date StartTime  DayOfWeek GoingTo  Distance  MaxSpeed  AvgSpeed  \\\n",
       "0  1/6/2012     16:37     Friday    Home     51.29     127.4      78.3   \n",
       "1  1/6/2012     08:20     Friday     GSK     51.63     130.3      81.8   \n",
       "2  1/4/2012     16:17  Wednesday    Home     51.27     127.4      82.0   \n",
       "3  1/4/2012     07:53  Wednesday     GSK     49.17     132.3      74.2   \n",
       "4  1/3/2012     18:57    Tuesday    Home     51.15     136.2      83.4   \n",
       "\n",
       "   AvgMovingSpeed FuelEconomy  TotalTime  MovingTime Take407All  Count  \\\n",
       "0            84.8          NA       39.3        36.3         No      1   \n",
       "1            88.9          NA       37.9        34.9         No      1   \n",
       "2            85.8          NA       37.5        35.9         No      1   \n",
       "3            82.9          NA       39.8        35.6         No      1   \n",
       "4            88.1          NA       36.8        34.8         No      1   \n",
       "\n",
       "   Outliers  \n",
       "0         0  \n",
       "1         0  \n",
       "2         0  \n",
       "3         1  \n",
       "4         0  "
      ]
     },
     "execution_count": 44,
     "metadata": {},
     "output_type": "execute_result"
    }
   ],
   "source": [
    "data.head()"
   ]
  },
  {
   "cell_type": "code",
   "execution_count": 45,
   "metadata": {},
   "outputs": [
    {
     "data": {
      "text/plain": [
       "No     170\n",
       "Yes     35\n",
       "Name: Take407All, dtype: int64"
      ]
     },
     "execution_count": 45,
     "metadata": {},
     "output_type": "execute_result"
    }
   ],
   "source": [
    "data['Take407All'].value_counts()"
   ]
  },
  {
   "cell_type": "code",
   "execution_count": 46,
   "metadata": {},
   "outputs": [
    {
     "data": {
      "text/plain": [
       "Date              0\n",
       "StartTime         0\n",
       "DayOfWeek         0\n",
       "GoingTo           0\n",
       "Distance          0\n",
       "MaxSpeed          0\n",
       "AvgSpeed          0\n",
       "AvgMovingSpeed    0\n",
       "FuelEconomy       0\n",
       "TotalTime         0\n",
       "MovingTime        0\n",
       "Take407All        0\n",
       "Count             0\n",
       "Outliers          0\n",
       "dtype: int64"
      ]
     },
     "execution_count": 46,
     "metadata": {},
     "output_type": "execute_result"
    }
   ],
   "source": [
    "data.isnull().sum()"
   ]
  },
  {
   "cell_type": "code",
   "execution_count": 47,
   "metadata": {},
   "outputs": [
    {
     "data": {
      "text/plain": [
       "0    152\n",
       "1     53\n",
       "Name: Outliers, dtype: int64"
      ]
     },
     "execution_count": 47,
     "metadata": {},
     "output_type": "execute_result"
    }
   ],
   "source": [
    "data['Outliers'].value_counts()"
   ]
  },
  {
   "cell_type": "code",
   "execution_count": 48,
   "metadata": {},
   "outputs": [
    {
     "name": "stdout",
     "output_type": "stream",
     "text": [
      "(205, 13)\n",
      "(152, 14)\n"
     ]
    }
   ],
   "source": [
    "dfclean = data[data['Outliers']==0]\n",
    "print(df.shape)\n",
    "print(dfclean.shape)"
   ]
  },
  {
   "cell_type": "code",
   "execution_count": 49,
   "metadata": {},
   "outputs": [
    {
     "data": {
      "text/html": [
       "<div>\n",
       "<style scoped>\n",
       "    .dataframe tbody tr th:only-of-type {\n",
       "        vertical-align: middle;\n",
       "    }\n",
       "\n",
       "    .dataframe tbody tr th {\n",
       "        vertical-align: top;\n",
       "    }\n",
       "\n",
       "    .dataframe thead th {\n",
       "        text-align: right;\n",
       "    }\n",
       "</style>\n",
       "<table border=\"1\" class=\"dataframe\">\n",
       "  <thead>\n",
       "    <tr style=\"text-align: right;\">\n",
       "      <th></th>\n",
       "      <th>Date</th>\n",
       "      <th>StartTime</th>\n",
       "      <th>DayOfWeek</th>\n",
       "      <th>GoingTo</th>\n",
       "      <th>Distance</th>\n",
       "      <th>MaxSpeed</th>\n",
       "      <th>AvgSpeed</th>\n",
       "      <th>AvgMovingSpeed</th>\n",
       "      <th>FuelEconomy</th>\n",
       "      <th>TotalTime</th>\n",
       "      <th>MovingTime</th>\n",
       "      <th>Take407All</th>\n",
       "      <th>Count</th>\n",
       "      <th>Outliers</th>\n",
       "    </tr>\n",
       "  </thead>\n",
       "  <tbody>\n",
       "    <tr>\n",
       "      <th>0</th>\n",
       "      <td>1/6/2012</td>\n",
       "      <td>16:37</td>\n",
       "      <td>Friday</td>\n",
       "      <td>Home</td>\n",
       "      <td>51.29</td>\n",
       "      <td>127.4</td>\n",
       "      <td>78.3</td>\n",
       "      <td>84.8</td>\n",
       "      <td>NA</td>\n",
       "      <td>39.3</td>\n",
       "      <td>36.3</td>\n",
       "      <td>No</td>\n",
       "      <td>1</td>\n",
       "      <td>0</td>\n",
       "    </tr>\n",
       "    <tr>\n",
       "      <th>1</th>\n",
       "      <td>1/6/2012</td>\n",
       "      <td>08:20</td>\n",
       "      <td>Friday</td>\n",
       "      <td>GSK</td>\n",
       "      <td>51.63</td>\n",
       "      <td>130.3</td>\n",
       "      <td>81.8</td>\n",
       "      <td>88.9</td>\n",
       "      <td>NA</td>\n",
       "      <td>37.9</td>\n",
       "      <td>34.9</td>\n",
       "      <td>No</td>\n",
       "      <td>1</td>\n",
       "      <td>0</td>\n",
       "    </tr>\n",
       "    <tr>\n",
       "      <th>2</th>\n",
       "      <td>1/4/2012</td>\n",
       "      <td>16:17</td>\n",
       "      <td>Wednesday</td>\n",
       "      <td>Home</td>\n",
       "      <td>51.27</td>\n",
       "      <td>127.4</td>\n",
       "      <td>82.0</td>\n",
       "      <td>85.8</td>\n",
       "      <td>NA</td>\n",
       "      <td>37.5</td>\n",
       "      <td>35.9</td>\n",
       "      <td>No</td>\n",
       "      <td>1</td>\n",
       "      <td>0</td>\n",
       "    </tr>\n",
       "    <tr>\n",
       "      <th>4</th>\n",
       "      <td>1/3/2012</td>\n",
       "      <td>18:57</td>\n",
       "      <td>Tuesday</td>\n",
       "      <td>Home</td>\n",
       "      <td>51.15</td>\n",
       "      <td>136.2</td>\n",
       "      <td>83.4</td>\n",
       "      <td>88.1</td>\n",
       "      <td>NA</td>\n",
       "      <td>36.8</td>\n",
       "      <td>34.8</td>\n",
       "      <td>No</td>\n",
       "      <td>1</td>\n",
       "      <td>0</td>\n",
       "    </tr>\n",
       "    <tr>\n",
       "      <th>5</th>\n",
       "      <td>1/3/2012</td>\n",
       "      <td>07:57</td>\n",
       "      <td>Tuesday</td>\n",
       "      <td>GSK</td>\n",
       "      <td>51.80</td>\n",
       "      <td>135.8</td>\n",
       "      <td>84.5</td>\n",
       "      <td>88.8</td>\n",
       "      <td>NA</td>\n",
       "      <td>36.8</td>\n",
       "      <td>35.0</td>\n",
       "      <td>No</td>\n",
       "      <td>1</td>\n",
       "      <td>0</td>\n",
       "    </tr>\n",
       "  </tbody>\n",
       "</table>\n",
       "</div>"
      ],
      "text/plain": [
       "       Date StartTime  DayOfWeek GoingTo  Distance  MaxSpeed  AvgSpeed  \\\n",
       "0  1/6/2012     16:37     Friday    Home     51.29     127.4      78.3   \n",
       "1  1/6/2012     08:20     Friday     GSK     51.63     130.3      81.8   \n",
       "2  1/4/2012     16:17  Wednesday    Home     51.27     127.4      82.0   \n",
       "4  1/3/2012     18:57    Tuesday    Home     51.15     136.2      83.4   \n",
       "5  1/3/2012     07:57    Tuesday     GSK     51.80     135.8      84.5   \n",
       "\n",
       "   AvgMovingSpeed FuelEconomy  TotalTime  MovingTime Take407All  Count  \\\n",
       "0            84.8          NA       39.3        36.3         No      1   \n",
       "1            88.9          NA       37.9        34.9         No      1   \n",
       "2            85.8          NA       37.5        35.9         No      1   \n",
       "4            88.1          NA       36.8        34.8         No      1   \n",
       "5            88.8          NA       36.8        35.0         No      1   \n",
       "\n",
       "   Outliers  \n",
       "0         0  \n",
       "1         0  \n",
       "2         0  \n",
       "4         0  \n",
       "5         0  "
      ]
     },
     "execution_count": 49,
     "metadata": {},
     "output_type": "execute_result"
    }
   ],
   "source": [
    "dfclean.head()"
   ]
  },
  {
   "cell_type": "code",
   "execution_count": 50,
   "metadata": {},
   "outputs": [
    {
     "data": {
      "text/plain": [
       "(152, 11)"
      ]
     },
     "execution_count": 50,
     "metadata": {},
     "output_type": "execute_result"
    }
   ],
   "source": [
    "dfclean = dfclean.drop(columns=[('Take407All'), ('Count'), ('Outliers')])\n",
    "dfclean.shape"
   ]
  },
  {
   "cell_type": "code",
   "execution_count": 51,
   "metadata": {},
   "outputs": [
    {
     "data": {
      "text/html": [
       "<div>\n",
       "<style scoped>\n",
       "    .dataframe tbody tr th:only-of-type {\n",
       "        vertical-align: middle;\n",
       "    }\n",
       "\n",
       "    .dataframe tbody tr th {\n",
       "        vertical-align: top;\n",
       "    }\n",
       "\n",
       "    .dataframe thead th {\n",
       "        text-align: right;\n",
       "    }\n",
       "</style>\n",
       "<table border=\"1\" class=\"dataframe\">\n",
       "  <thead>\n",
       "    <tr style=\"text-align: right;\">\n",
       "      <th></th>\n",
       "      <th>Date</th>\n",
       "      <th>StartTime</th>\n",
       "      <th>DayOfWeek</th>\n",
       "      <th>GoingTo</th>\n",
       "      <th>Distance</th>\n",
       "      <th>MaxSpeed</th>\n",
       "      <th>AvgSpeed</th>\n",
       "      <th>AvgMovingSpeed</th>\n",
       "      <th>FuelEconomy</th>\n",
       "      <th>TotalTime</th>\n",
       "      <th>MovingTime</th>\n",
       "    </tr>\n",
       "  </thead>\n",
       "  <tbody>\n",
       "    <tr>\n",
       "      <th>0</th>\n",
       "      <td>1/6/2012</td>\n",
       "      <td>16:37</td>\n",
       "      <td>Friday</td>\n",
       "      <td>Home</td>\n",
       "      <td>51.29</td>\n",
       "      <td>127.4</td>\n",
       "      <td>78.3</td>\n",
       "      <td>84.8</td>\n",
       "      <td>NA</td>\n",
       "      <td>39.3</td>\n",
       "      <td>36.3</td>\n",
       "    </tr>\n",
       "    <tr>\n",
       "      <th>1</th>\n",
       "      <td>1/6/2012</td>\n",
       "      <td>08:20</td>\n",
       "      <td>Friday</td>\n",
       "      <td>GSK</td>\n",
       "      <td>51.63</td>\n",
       "      <td>130.3</td>\n",
       "      <td>81.8</td>\n",
       "      <td>88.9</td>\n",
       "      <td>NA</td>\n",
       "      <td>37.9</td>\n",
       "      <td>34.9</td>\n",
       "    </tr>\n",
       "    <tr>\n",
       "      <th>2</th>\n",
       "      <td>1/4/2012</td>\n",
       "      <td>16:17</td>\n",
       "      <td>Wednesday</td>\n",
       "      <td>Home</td>\n",
       "      <td>51.27</td>\n",
       "      <td>127.4</td>\n",
       "      <td>82.0</td>\n",
       "      <td>85.8</td>\n",
       "      <td>NA</td>\n",
       "      <td>37.5</td>\n",
       "      <td>35.9</td>\n",
       "    </tr>\n",
       "    <tr>\n",
       "      <th>4</th>\n",
       "      <td>1/3/2012</td>\n",
       "      <td>18:57</td>\n",
       "      <td>Tuesday</td>\n",
       "      <td>Home</td>\n",
       "      <td>51.15</td>\n",
       "      <td>136.2</td>\n",
       "      <td>83.4</td>\n",
       "      <td>88.1</td>\n",
       "      <td>NA</td>\n",
       "      <td>36.8</td>\n",
       "      <td>34.8</td>\n",
       "    </tr>\n",
       "    <tr>\n",
       "      <th>5</th>\n",
       "      <td>1/3/2012</td>\n",
       "      <td>07:57</td>\n",
       "      <td>Tuesday</td>\n",
       "      <td>GSK</td>\n",
       "      <td>51.80</td>\n",
       "      <td>135.8</td>\n",
       "      <td>84.5</td>\n",
       "      <td>88.8</td>\n",
       "      <td>NA</td>\n",
       "      <td>36.8</td>\n",
       "      <td>35.0</td>\n",
       "    </tr>\n",
       "  </tbody>\n",
       "</table>\n",
       "</div>"
      ],
      "text/plain": [
       "       Date StartTime  DayOfWeek GoingTo  Distance  MaxSpeed  AvgSpeed  \\\n",
       "0  1/6/2012     16:37     Friday    Home     51.29     127.4      78.3   \n",
       "1  1/6/2012     08:20     Friday     GSK     51.63     130.3      81.8   \n",
       "2  1/4/2012     16:17  Wednesday    Home     51.27     127.4      82.0   \n",
       "4  1/3/2012     18:57    Tuesday    Home     51.15     136.2      83.4   \n",
       "5  1/3/2012     07:57    Tuesday     GSK     51.80     135.8      84.5   \n",
       "\n",
       "   AvgMovingSpeed FuelEconomy  TotalTime  MovingTime  \n",
       "0            84.8          NA       39.3        36.3  \n",
       "1            88.9          NA       37.9        34.9  \n",
       "2            85.8          NA       37.5        35.9  \n",
       "4            88.1          NA       36.8        34.8  \n",
       "5            88.8          NA       36.8        35.0  "
      ]
     },
     "execution_count": 51,
     "metadata": {},
     "output_type": "execute_result"
    }
   ],
   "source": [
    "dfclean.head()"
   ]
  },
  {
   "cell_type": "code",
   "execution_count": 52,
   "metadata": {},
   "outputs": [
    {
     "data": {
      "text/plain": [
       "8.54     20\n",
       "8.5      20\n",
       "NA       17\n",
       "8.75     11\n",
       "7.97     10\n",
       "8.45     10\n",
       "8.33     10\n",
       "8.37     10\n",
       "9.35      8\n",
       "8.32      8\n",
       "8.48      8\n",
       "9.53      8\n",
       "8.89      8\n",
       "9.08      8\n",
       "9.76      7\n",
       "8.31      6\n",
       "7.89      6\n",
       "9.3       6\n",
       "8.97      6\n",
       "10.05     4\n",
       "8.93      4\n",
       "8.28      3\n",
       "9.16      3\n",
       "-         2\n",
       "7.81      2\n",
       "Name: FuelEconomy, dtype: int64"
      ]
     },
     "execution_count": 52,
     "metadata": {},
     "output_type": "execute_result"
    }
   ],
   "source": [
    "data['FuelEconomy'].value_counts()"
   ]
  },
  {
   "cell_type": "code",
   "execution_count": 53,
   "metadata": {},
   "outputs": [
    {
     "name": "stdout",
     "output_type": "stream",
     "text": [
      "<class 'pandas.core.frame.DataFrame'>\n",
      "Int64Index: 152 entries, 0 to 204\n",
      "Data columns (total 11 columns):\n",
      " #   Column          Non-Null Count  Dtype  \n",
      "---  ------          --------------  -----  \n",
      " 0   Date            152 non-null    object \n",
      " 1   StartTime       152 non-null    object \n",
      " 2   DayOfWeek       152 non-null    object \n",
      " 3   GoingTo         152 non-null    object \n",
      " 4   Distance        152 non-null    float64\n",
      " 5   MaxSpeed        152 non-null    float64\n",
      " 6   AvgSpeed        152 non-null    float64\n",
      " 7   AvgMovingSpeed  152 non-null    float64\n",
      " 8   FuelEconomy     152 non-null    object \n",
      " 9   TotalTime       152 non-null    float64\n",
      " 10  MovingTime      152 non-null    float64\n",
      "dtypes: float64(6), object(5)\n",
      "memory usage: 14.2+ KB\n"
     ]
    }
   ],
   "source": [
    "dfclean.info()"
   ]
  },
  {
   "cell_type": "code",
   "execution_count": 54,
   "metadata": {},
   "outputs": [
    {
     "data": {
      "text/html": [
       "<div>\n",
       "<style scoped>\n",
       "    .dataframe tbody tr th:only-of-type {\n",
       "        vertical-align: middle;\n",
       "    }\n",
       "\n",
       "    .dataframe tbody tr th {\n",
       "        vertical-align: top;\n",
       "    }\n",
       "\n",
       "    .dataframe thead th {\n",
       "        text-align: right;\n",
       "    }\n",
       "</style>\n",
       "<table border=\"1\" class=\"dataframe\">\n",
       "  <thead>\n",
       "    <tr style=\"text-align: right;\">\n",
       "      <th></th>\n",
       "      <th>DayOfWeek</th>\n",
       "      <th>GoingTo</th>\n",
       "      <th>Distance</th>\n",
       "      <th>MaxSpeed</th>\n",
       "      <th>AvgSpeed</th>\n",
       "      <th>AvgMovingSpeed</th>\n",
       "      <th>FuelEconomy</th>\n",
       "      <th>TotalTime</th>\n",
       "      <th>MovingTime</th>\n",
       "    </tr>\n",
       "  </thead>\n",
       "  <tbody>\n",
       "    <tr>\n",
       "      <th>0</th>\n",
       "      <td>Friday</td>\n",
       "      <td>Home</td>\n",
       "      <td>51.29</td>\n",
       "      <td>127.4</td>\n",
       "      <td>78.3</td>\n",
       "      <td>84.8</td>\n",
       "      <td>NA</td>\n",
       "      <td>39.3</td>\n",
       "      <td>36.3</td>\n",
       "    </tr>\n",
       "    <tr>\n",
       "      <th>1</th>\n",
       "      <td>Friday</td>\n",
       "      <td>GSK</td>\n",
       "      <td>51.63</td>\n",
       "      <td>130.3</td>\n",
       "      <td>81.8</td>\n",
       "      <td>88.9</td>\n",
       "      <td>NA</td>\n",
       "      <td>37.9</td>\n",
       "      <td>34.9</td>\n",
       "    </tr>\n",
       "    <tr>\n",
       "      <th>2</th>\n",
       "      <td>Wednesday</td>\n",
       "      <td>Home</td>\n",
       "      <td>51.27</td>\n",
       "      <td>127.4</td>\n",
       "      <td>82.0</td>\n",
       "      <td>85.8</td>\n",
       "      <td>NA</td>\n",
       "      <td>37.5</td>\n",
       "      <td>35.9</td>\n",
       "    </tr>\n",
       "    <tr>\n",
       "      <th>4</th>\n",
       "      <td>Tuesday</td>\n",
       "      <td>Home</td>\n",
       "      <td>51.15</td>\n",
       "      <td>136.2</td>\n",
       "      <td>83.4</td>\n",
       "      <td>88.1</td>\n",
       "      <td>NA</td>\n",
       "      <td>36.8</td>\n",
       "      <td>34.8</td>\n",
       "    </tr>\n",
       "    <tr>\n",
       "      <th>5</th>\n",
       "      <td>Tuesday</td>\n",
       "      <td>GSK</td>\n",
       "      <td>51.80</td>\n",
       "      <td>135.8</td>\n",
       "      <td>84.5</td>\n",
       "      <td>88.8</td>\n",
       "      <td>NA</td>\n",
       "      <td>36.8</td>\n",
       "      <td>35.0</td>\n",
       "    </tr>\n",
       "  </tbody>\n",
       "</table>\n",
       "</div>"
      ],
      "text/plain": [
       "   DayOfWeek GoingTo  Distance  MaxSpeed  AvgSpeed  AvgMovingSpeed  \\\n",
       "0     Friday    Home     51.29     127.4      78.3            84.8   \n",
       "1     Friday     GSK     51.63     130.3      81.8            88.9   \n",
       "2  Wednesday    Home     51.27     127.4      82.0            85.8   \n",
       "4    Tuesday    Home     51.15     136.2      83.4            88.1   \n",
       "5    Tuesday     GSK     51.80     135.8      84.5            88.8   \n",
       "\n",
       "  FuelEconomy  TotalTime  MovingTime  \n",
       "0          NA       39.3        36.3  \n",
       "1          NA       37.9        34.9  \n",
       "2          NA       37.5        35.9  \n",
       "4          NA       36.8        34.8  \n",
       "5          NA       36.8        35.0  "
      ]
     },
     "execution_count": 54,
     "metadata": {},
     "output_type": "execute_result"
    }
   ],
   "source": [
    "dfclean = dfclean.drop(columns = [('Date'), ('StartTime')])\n",
    "dfclean.head()"
   ]
  },
  {
   "cell_type": "code",
   "execution_count": 55,
   "metadata": {},
   "outputs": [
    {
     "data": {
      "text/html": [
       "<div>\n",
       "<style scoped>\n",
       "    .dataframe tbody tr th:only-of-type {\n",
       "        vertical-align: middle;\n",
       "    }\n",
       "\n",
       "    .dataframe tbody tr th {\n",
       "        vertical-align: top;\n",
       "    }\n",
       "\n",
       "    .dataframe thead th {\n",
       "        text-align: right;\n",
       "    }\n",
       "</style>\n",
       "<table border=\"1\" class=\"dataframe\">\n",
       "  <thead>\n",
       "    <tr style=\"text-align: right;\">\n",
       "      <th></th>\n",
       "      <th>Distance</th>\n",
       "      <th>MaxSpeed</th>\n",
       "      <th>AvgSpeed</th>\n",
       "      <th>AvgMovingSpeed</th>\n",
       "      <th>FuelEconomy</th>\n",
       "      <th>TotalTime</th>\n",
       "      <th>MovingTime</th>\n",
       "    </tr>\n",
       "  </thead>\n",
       "  <tbody>\n",
       "    <tr>\n",
       "      <th>0</th>\n",
       "      <td>51.29</td>\n",
       "      <td>127.4</td>\n",
       "      <td>78.3</td>\n",
       "      <td>84.8</td>\n",
       "      <td>NA</td>\n",
       "      <td>39.3</td>\n",
       "      <td>36.3</td>\n",
       "    </tr>\n",
       "    <tr>\n",
       "      <th>1</th>\n",
       "      <td>51.63</td>\n",
       "      <td>130.3</td>\n",
       "      <td>81.8</td>\n",
       "      <td>88.9</td>\n",
       "      <td>NA</td>\n",
       "      <td>37.9</td>\n",
       "      <td>34.9</td>\n",
       "    </tr>\n",
       "    <tr>\n",
       "      <th>2</th>\n",
       "      <td>51.27</td>\n",
       "      <td>127.4</td>\n",
       "      <td>82.0</td>\n",
       "      <td>85.8</td>\n",
       "      <td>NA</td>\n",
       "      <td>37.5</td>\n",
       "      <td>35.9</td>\n",
       "    </tr>\n",
       "    <tr>\n",
       "      <th>4</th>\n",
       "      <td>51.15</td>\n",
       "      <td>136.2</td>\n",
       "      <td>83.4</td>\n",
       "      <td>88.1</td>\n",
       "      <td>NA</td>\n",
       "      <td>36.8</td>\n",
       "      <td>34.8</td>\n",
       "    </tr>\n",
       "    <tr>\n",
       "      <th>5</th>\n",
       "      <td>51.80</td>\n",
       "      <td>135.8</td>\n",
       "      <td>84.5</td>\n",
       "      <td>88.8</td>\n",
       "      <td>NA</td>\n",
       "      <td>36.8</td>\n",
       "      <td>35.0</td>\n",
       "    </tr>\n",
       "  </tbody>\n",
       "</table>\n",
       "</div>"
      ],
      "text/plain": [
       "   Distance  MaxSpeed  AvgSpeed  AvgMovingSpeed FuelEconomy  TotalTime  \\\n",
       "0     51.29     127.4      78.3            84.8          NA       39.3   \n",
       "1     51.63     130.3      81.8            88.9          NA       37.9   \n",
       "2     51.27     127.4      82.0            85.8          NA       37.5   \n",
       "4     51.15     136.2      83.4            88.1          NA       36.8   \n",
       "5     51.80     135.8      84.5            88.8          NA       36.8   \n",
       "\n",
       "   MovingTime  \n",
       "0        36.3  \n",
       "1        34.9  \n",
       "2        35.9  \n",
       "4        34.8  \n",
       "5        35.0  "
      ]
     },
     "execution_count": 55,
     "metadata": {},
     "output_type": "execute_result"
    }
   ],
   "source": [
    "dfclean = dfclean.drop(columns = [('DayOfWeek'), ('GoingTo')])\n",
    "dfclean.head()"
   ]
  },
  {
   "cell_type": "code",
   "execution_count": 56,
   "metadata": {},
   "outputs": [
    {
     "data": {
      "text/html": [
       "<div>\n",
       "<style scoped>\n",
       "    .dataframe tbody tr th:only-of-type {\n",
       "        vertical-align: middle;\n",
       "    }\n",
       "\n",
       "    .dataframe tbody tr th {\n",
       "        vertical-align: top;\n",
       "    }\n",
       "\n",
       "    .dataframe thead th {\n",
       "        text-align: right;\n",
       "    }\n",
       "</style>\n",
       "<table border=\"1\" class=\"dataframe\">\n",
       "  <thead>\n",
       "    <tr style=\"text-align: right;\">\n",
       "      <th></th>\n",
       "      <th>Distance</th>\n",
       "      <th>MaxSpeed</th>\n",
       "      <th>AvgSpeed</th>\n",
       "      <th>AvgMovingSpeed</th>\n",
       "      <th>TotalTime</th>\n",
       "      <th>MovingTime</th>\n",
       "    </tr>\n",
       "  </thead>\n",
       "  <tbody>\n",
       "    <tr>\n",
       "      <th>0</th>\n",
       "      <td>51.29</td>\n",
       "      <td>127.4</td>\n",
       "      <td>78.3</td>\n",
       "      <td>84.8</td>\n",
       "      <td>39.3</td>\n",
       "      <td>36.3</td>\n",
       "    </tr>\n",
       "    <tr>\n",
       "      <th>1</th>\n",
       "      <td>51.63</td>\n",
       "      <td>130.3</td>\n",
       "      <td>81.8</td>\n",
       "      <td>88.9</td>\n",
       "      <td>37.9</td>\n",
       "      <td>34.9</td>\n",
       "    </tr>\n",
       "    <tr>\n",
       "      <th>2</th>\n",
       "      <td>51.27</td>\n",
       "      <td>127.4</td>\n",
       "      <td>82.0</td>\n",
       "      <td>85.8</td>\n",
       "      <td>37.5</td>\n",
       "      <td>35.9</td>\n",
       "    </tr>\n",
       "    <tr>\n",
       "      <th>4</th>\n",
       "      <td>51.15</td>\n",
       "      <td>136.2</td>\n",
       "      <td>83.4</td>\n",
       "      <td>88.1</td>\n",
       "      <td>36.8</td>\n",
       "      <td>34.8</td>\n",
       "    </tr>\n",
       "    <tr>\n",
       "      <th>5</th>\n",
       "      <td>51.80</td>\n",
       "      <td>135.8</td>\n",
       "      <td>84.5</td>\n",
       "      <td>88.8</td>\n",
       "      <td>36.8</td>\n",
       "      <td>35.0</td>\n",
       "    </tr>\n",
       "  </tbody>\n",
       "</table>\n",
       "</div>"
      ],
      "text/plain": [
       "   Distance  MaxSpeed  AvgSpeed  AvgMovingSpeed  TotalTime  MovingTime\n",
       "0     51.29     127.4      78.3            84.8       39.3        36.3\n",
       "1     51.63     130.3      81.8            88.9       37.9        34.9\n",
       "2     51.27     127.4      82.0            85.8       37.5        35.9\n",
       "4     51.15     136.2      83.4            88.1       36.8        34.8\n",
       "5     51.80     135.8      84.5            88.8       36.8        35.0"
      ]
     },
     "execution_count": 56,
     "metadata": {},
     "output_type": "execute_result"
    }
   ],
   "source": [
    "dfclean = dfclean.drop(columns = [('FuelEconomy')])\n",
    "dfclean.head()"
   ]
  },
  {
   "cell_type": "code",
   "execution_count": 57,
   "metadata": {},
   "outputs": [
    {
     "name": "stdout",
     "output_type": "stream",
     "text": [
      "(152, 5)\n",
      "(152,)\n"
     ]
    }
   ],
   "source": [
    "x = dfclean.drop(columns='MaxSpeed')\n",
    "y = dfclean['MaxSpeed']\n",
    "\n",
    "print(x.shape)\n",
    "print(y.shape)"
   ]
  },
  {
   "cell_type": "code",
   "execution_count": 58,
   "metadata": {},
   "outputs": [
    {
     "name": "stdout",
     "output_type": "stream",
     "text": [
      "(121, 5)\n",
      "(31, 5)\n",
      "(121,)\n",
      "(31,)\n"
     ]
    }
   ],
   "source": [
    "from sklearn.model_selection import train_test_split\n",
    "\n",
    "xtrain, xtest, ytrain, ytest = train_test_split(x, y, test_size = 0.2)\n",
    "\n",
    "print(xtrain.shape)\n",
    "print(xtest.shape)\n",
    "print(ytrain.shape)\n",
    "print(ytest.shape)"
   ]
  },
  {
   "cell_type": "code",
   "execution_count": 59,
   "metadata": {},
   "outputs": [
    {
     "data": {
      "text/html": [
       "<div>\n",
       "<style scoped>\n",
       "    .dataframe tbody tr th:only-of-type {\n",
       "        vertical-align: middle;\n",
       "    }\n",
       "\n",
       "    .dataframe tbody tr th {\n",
       "        vertical-align: top;\n",
       "    }\n",
       "\n",
       "    .dataframe thead th {\n",
       "        text-align: right;\n",
       "    }\n",
       "</style>\n",
       "<table border=\"1\" class=\"dataframe\">\n",
       "  <thead>\n",
       "    <tr style=\"text-align: right;\">\n",
       "      <th></th>\n",
       "      <th>Distance</th>\n",
       "      <th>AvgSpeed</th>\n",
       "      <th>AvgMovingSpeed</th>\n",
       "      <th>TotalTime</th>\n",
       "      <th>MovingTime</th>\n",
       "    </tr>\n",
       "  </thead>\n",
       "  <tbody>\n",
       "    <tr>\n",
       "      <th>118</th>\n",
       "      <td>51.69</td>\n",
       "      <td>70.4</td>\n",
       "      <td>70.1</td>\n",
       "      <td>44.1</td>\n",
       "      <td>39.7</td>\n",
       "    </tr>\n",
       "    <tr>\n",
       "      <th>18</th>\n",
       "      <td>51.06</td>\n",
       "      <td>80.5</td>\n",
       "      <td>84.9</td>\n",
       "      <td>38.1</td>\n",
       "      <td>36.1</td>\n",
       "    </tr>\n",
       "    <tr>\n",
       "      <th>34</th>\n",
       "      <td>51.55</td>\n",
       "      <td>74.2</td>\n",
       "      <td>83.7</td>\n",
       "      <td>41.7</td>\n",
       "      <td>36.9</td>\n",
       "    </tr>\n",
       "    <tr>\n",
       "      <th>117</th>\n",
       "      <td>51.23</td>\n",
       "      <td>71.7</td>\n",
       "      <td>76.9</td>\n",
       "      <td>42.9</td>\n",
       "      <td>40.0</td>\n",
       "    </tr>\n",
       "    <tr>\n",
       "      <th>79</th>\n",
       "      <td>51.75</td>\n",
       "      <td>72.1</td>\n",
       "      <td>82.0</td>\n",
       "      <td>43.1</td>\n",
       "      <td>37.8</td>\n",
       "    </tr>\n",
       "  </tbody>\n",
       "</table>\n",
       "</div>"
      ],
      "text/plain": [
       "     Distance  AvgSpeed  AvgMovingSpeed  TotalTime  MovingTime\n",
       "118     51.69      70.4            70.1       44.1        39.7\n",
       "18      51.06      80.5            84.9       38.1        36.1\n",
       "34      51.55      74.2            83.7       41.7        36.9\n",
       "117     51.23      71.7            76.9       42.9        40.0\n",
       "79      51.75      72.1            82.0       43.1        37.8"
      ]
     },
     "execution_count": 59,
     "metadata": {},
     "output_type": "execute_result"
    }
   ],
   "source": [
    "xtrain.head()"
   ]
  },
  {
   "cell_type": "code",
   "execution_count": 60,
   "metadata": {},
   "outputs": [
    {
     "data": {
      "text/plain": [
       "118    128.7\n",
       "18     126.9\n",
       "34     129.6\n",
       "117    127.2\n",
       "79     127.4\n",
       "Name: MaxSpeed, dtype: float64"
      ]
     },
     "execution_count": 60,
     "metadata": {},
     "output_type": "execute_result"
    }
   ],
   "source": [
    "ytrain.head()"
   ]
  },
  {
   "cell_type": "code",
   "execution_count": 61,
   "metadata": {},
   "outputs": [],
   "source": [
    "import statsmodels.api as sm\n",
    "\n",
    "model = sm.OLS(ytrain, xtrain.astype(float)).fit()"
   ]
  },
  {
   "cell_type": "code",
   "execution_count": 62,
   "metadata": {},
   "outputs": [],
   "source": [
    "# model.intercept_"
   ]
  },
  {
   "cell_type": "code",
   "execution_count": 63,
   "metadata": {},
   "outputs": [
    {
     "name": "stdout",
     "output_type": "stream",
     "text": [
      "                                 OLS Regression Results                                \n",
      "=======================================================================================\n",
      "Dep. Variable:               MaxSpeed   R-squared (uncentered):                   0.999\n",
      "Model:                            OLS   Adj. R-squared (uncentered):              0.999\n",
      "Method:                 Least Squares   F-statistic:                          2.619e+04\n",
      "Date:                Thu, 29 Apr 2021   Prob (F-statistic):                   2.85e-175\n",
      "Time:                        12:35:36   Log-Likelihood:                         -333.42\n",
      "No. Observations:                 121   AIC:                                      676.8\n",
      "Df Residuals:                     116   BIC:                                      690.8\n",
      "Df Model:                           5                                                  \n",
      "Covariance Type:            nonrobust                                                  \n",
      "==================================================================================\n",
      "                     coef    std err          t      P>|t|      [0.025      0.975]\n",
      "----------------------------------------------------------------------------------\n",
      "Distance           2.0509      0.629      3.260      0.001       0.805       3.297\n",
      "AvgSpeed           0.0459      0.240      0.191      0.849      -0.430       0.522\n",
      "AvgMovingSpeed     0.1664      0.267      0.623      0.534      -0.362       0.695\n",
      "TotalTime         -0.0872      0.408     -0.214      0.831      -0.895       0.720\n",
      "MovingTime         0.2424      0.571      0.424      0.672      -0.889       1.374\n",
      "==============================================================================\n",
      "Omnibus:                        3.149   Durbin-Watson:                   1.997\n",
      "Prob(Omnibus):                  0.207   Jarque-Bera (JB):                2.615\n",
      "Skew:                           0.265   Prob(JB):                        0.270\n",
      "Kurtosis:                       3.488   Cond. No.                         311.\n",
      "==============================================================================\n",
      "\n",
      "Notes:\n",
      "[1] R² is computed without centering (uncentered) since the model does not contain a constant.\n",
      "[2] Standard Errors assume that the covariance matrix of the errors is correctly specified.\n"
     ]
    }
   ],
   "source": [
    "print(model.summary())"
   ]
  },
  {
   "cell_type": "code",
   "execution_count": 64,
   "metadata": {},
   "outputs": [],
   "source": [
    "pred = model.predict(xtest)\n",
    "\n",
    "data_p = list(zip(ytest, pred))"
   ]
  },
  {
   "cell_type": "code",
   "execution_count": 65,
   "metadata": {},
   "outputs": [
    {
     "data": {
      "text/html": [
       "<div>\n",
       "<style scoped>\n",
       "    .dataframe tbody tr th:only-of-type {\n",
       "        vertical-align: middle;\n",
       "    }\n",
       "\n",
       "    .dataframe tbody tr th {\n",
       "        vertical-align: top;\n",
       "    }\n",
       "\n",
       "    .dataframe thead th {\n",
       "        text-align: right;\n",
       "    }\n",
       "</style>\n",
       "<table border=\"1\" class=\"dataframe\">\n",
       "  <thead>\n",
       "    <tr style=\"text-align: right;\">\n",
       "      <th></th>\n",
       "      <th>Actual</th>\n",
       "      <th>Predicted</th>\n",
       "    </tr>\n",
       "  </thead>\n",
       "  <tbody>\n",
       "    <tr>\n",
       "      <th>0</th>\n",
       "      <td>124.6</td>\n",
       "      <td>128.419875</td>\n",
       "    </tr>\n",
       "    <tr>\n",
       "      <th>1</th>\n",
       "      <td>130.3</td>\n",
       "      <td>129.587169</td>\n",
       "    </tr>\n",
       "    <tr>\n",
       "      <th>2</th>\n",
       "      <td>127.0</td>\n",
       "      <td>128.011486</td>\n",
       "    </tr>\n",
       "    <tr>\n",
       "      <th>3</th>\n",
       "      <td>133.6</td>\n",
       "      <td>128.316451</td>\n",
       "    </tr>\n",
       "    <tr>\n",
       "      <th>4</th>\n",
       "      <td>129.8</td>\n",
       "      <td>126.514084</td>\n",
       "    </tr>\n",
       "  </tbody>\n",
       "</table>\n",
       "</div>"
      ],
      "text/plain": [
       "   Actual   Predicted\n",
       "0   124.6  128.419875\n",
       "1   130.3  129.587169\n",
       "2   127.0  128.011486\n",
       "3   133.6  128.316451\n",
       "4   129.8  126.514084"
      ]
     },
     "execution_count": 65,
     "metadata": {},
     "output_type": "execute_result"
    }
   ],
   "source": [
    "comptab = pd.DataFrame(data_p, columns=['Actual', 'Predicted'])\n",
    "comptab.head()"
   ]
  },
  {
   "cell_type": "code",
   "execution_count": 66,
   "metadata": {},
   "outputs": [
    {
     "name": "stdout",
     "output_type": "stream",
     "text": [
      "3.9809043654734038\n"
     ]
    }
   ],
   "source": [
    "from sklearn.metrics import mean_squared_error\n",
    "from math import sqrt\n",
    "\n",
    "rmse = sqrt(mean_squared_error(ytest, pred))\n",
    "print(rmse)"
   ]
  },
  {
   "cell_type": "code",
   "execution_count": 67,
   "metadata": {},
   "outputs": [],
   "source": [
    "# plt.figure(figsize=(5,5))\n",
    "# plt.scatter(comptab['Actual'], comptab['Predicted'], c='crimson')\n",
    "# plt.yscale('log')\n",
    "# plt.xscale('log')\n",
    "\n",
    "# p1 = max(max(comptab['Predicted']), max(comptab['Actual']))\n",
    "# p2 = min(min(comptab['Predicted']), min(comptab['Actual']))\n",
    "# plt.plot([p1, p2], [p1, p2], 'b-')\n",
    "# plt.xlabel('True Values', fontsize=15)\n",
    "# plt.ylabel('Predictions', fontsize=15)\n",
    "# plt.axis('equal')\n",
    "# plt.show()"
   ]
  },
  {
   "cell_type": "code",
   "execution_count": null,
   "metadata": {},
   "outputs": [],
   "source": []
  }
 ],
 "metadata": {
  "kernelspec": {
   "display_name": "Python 3",
   "language": "python",
   "name": "python3"
  },
  "language_info": {
   "codemirror_mode": {
    "name": "ipython",
    "version": 3
   },
   "file_extension": ".py",
   "mimetype": "text/x-python",
   "name": "python",
   "nbconvert_exporter": "python",
   "pygments_lexer": "ipython3",
   "version": "3.8.5"
  }
 },
 "nbformat": 4,
 "nbformat_minor": 4
}
